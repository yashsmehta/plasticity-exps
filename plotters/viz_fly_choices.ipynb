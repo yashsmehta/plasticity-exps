{
 "cells": [
  {
   "cell_type": "code",
   "execution_count": 1,
   "id": "cbc883b6-799f-4cb1-aafb-1893d6a251bd",
   "metadata": {},
   "outputs": [],
   "source": [
    "import matplotlib.pyplot as plt\n",
    "import seaborn as sns\n",
    "import pandas as pd\n",
    "import numpy as np\n",
    "import matplotlib.colors as mcolors\n",
    "import os \n",
    "import scipy.io as sio\n",
    "\n",
    "import glob\n",
    "from PIL import Image\n",
    "from scipy import interpolate\n",
    "import warnings\n",
    "warnings.filterwarnings('ignore', category=FutureWarning)"
   ]
  },
  {
   "cell_type": "code",
   "execution_count": 8,
   "id": "6fbf6b73-5fcd-42a2-86d8-32f25e0e3b09",
   "metadata": {},
   "outputs": [],
   "source": [
    "data_dir = \"../../data/\""
   ]
  },
  {
   "cell_type": "code",
   "execution_count": 9,
   "id": "9e380475-ab39-47aa-a8a7-007a2c63e3b1",
   "metadata": {},
   "outputs": [
    {
     "name": "stdout",
     "output_type": "stream",
     "text": [
      "loaded file Fly4.mat\n",
      "odors: \n",
      " [[1, 0, 1, 0, 1, 0, 1, 1, 0, 1, 0, 1], [0], [0, 1, 0, 1, 0, 1, 0, 1, 1], [0], [1, 0, 1, 1, 1, 1], [1, 0, 1, 0], [1, 0], [0, 0, 1], [1], [0, 1], [0], [0], [1], [1, 0], [0]]\n",
      "choices: \n",
      " [1, 0, 1, 0, 1, 0, 0, 1, 1, 1, 0, 0, 1, 0, 0]\n",
      "num trials:  238\n"
     ]
    }
   ],
   "source": [
    "max_exp_id = len(os.listdir(data_dir))\n",
    "exp_id = 4\n",
    "\n",
    "file = f\"Fly{exp_id}.mat\"\n",
    "data = sio.loadmat(data_dir + file)\n",
    "print(f\"loaded file {file}\")\n",
    "X, Y, R = data[\"X\"], data[\"Y\"], data[\"R\"]\n",
    "O = np.where(X == 1)[1]\n",
    "Y = np.squeeze(Y)\n",
    "R = np.squeeze(R)\n",
    "num_trials = np.sum(Y)\n",
    "assert num_trials == R.shape[0], \"Y and R should have the same number of trials\"\n",
    "\n",
    "# remove last element, and append left to get indices.\n",
    "indices = np.cumsum(Y)\n",
    "indices = np.insert(indices, 0, 0)\n",
    "indices = np.delete(indices, -1)\n",
    "\n",
    "exp_decisions = [[] for _ in range(num_trials)]\n",
    "exp_odors = [[] for _ in range(num_trials)]\n",
    "\n",
    "for index, decision, odor in zip(indices, Y, O):\n",
    "    exp_decisions[index].append(decision)\n",
    "    exp_odors[index].append(odor)\n",
    "    \n",
    "trial_lengths = [len(exp_decisions[i]) for i in range(num_trials)]\n",
    "max_trial_length = np.max(np.array(trial_lengths))\n",
    "\n",
    "rewards = R\n",
    "print(\"odors: \\n\", exp_odors[:15])\n",
    "choices = [trial_odors[-1] for trial_odors in exp_odors]\n",
    "print(\"choices: \\n\", choices[:15])\n",
    "num_trials = len(choices)\n",
    "print(\"num trials: \", num_trials)"
   ]
  },
  {
   "cell_type": "code",
   "execution_count": 10,
   "id": "e59014d1-94bc-4c3e-a824-97d21d7b3930",
   "metadata": {},
   "outputs": [],
   "source": [
    "expdata = {}\n",
    "expdata[\"A\"] = np.cumsum(np.logical_not(choices))\n",
    "expdata[\"B\"] = np.cumsum(choices)\n",
    "assert expdata[\"A\"][-1] + expdata[\"B\"][-1] == num_trials\n",
    "df = pd.DataFrame.from_dict(expdata)"
   ]
  },
  {
   "cell_type": "code",
   "execution_count": 12,
   "id": "efa9adea-65d5-4c11-950a-e14f316dac89",
   "metadata": {},
   "outputs": [
    {
     "name": "stdout",
     "output_type": "stream",
     "text": [
      "limits: 138\n"
     ]
    },
    {
     "data": {
      "image/png": "[encoded data removed]",
      "text/plain": [
       "<Figure size 360x360 with 1 Axes>"
      ]
     },
     "metadata": {
      "needs_background": "light"
     },
     "output_type": "display_data"
    }
   ],
   "source": [
    "plt.figure(figsize=(5, 5))\n",
    "limits = max(expdata[\"A\"][-1], expdata[\"B\"][-1])\n",
    "print(f\"limits: {limits}\")\n",
    "plt.xlim(0, limits)\n",
    "plt.ylim(0, limits)\n",
    "plt.plot([0, limits], [0, limits], color='red')\n",
    "sns.lineplot(data=df, x=\"A\", y=\"B\")\n",
    "\n",
    "plt.show()"
   ]
  }
 ],
 "metadata": {
  "kernelspec": {
   "display_name": "mb",
   "language": "python",
   "name": "mb"
  },
  "language_info": {
   "codemirror_mode": {
    "name": "ipython",
    "version": 3
   },
   "file_extension": ".py",
   "mimetype": "text/x-python",
   "name": "python",
   "nbconvert_exporter": "python",
   "pygments_lexer": "ipython3",
   "version": "3.9.7"
  }
 },
 "nbformat": 4,
 "nbformat_minor": 5
}
