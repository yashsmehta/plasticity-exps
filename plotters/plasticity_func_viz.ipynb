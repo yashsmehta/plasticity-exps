{
 "cells": [
  {
   "cell_type": "code",
   "execution_count": 156,
   "id": "0ad68158-ea2b-440f-a92a-86acc4abaf0b",
   "metadata": {},
   "outputs": [],
   "source": [
    "import seaborn as sns\n",
    "import pandas as pd\n",
    "import numpy as np\n",
    "import matplotlib.pyplot as plt\n",
    "import matplotlib.colors as mcolors\n",
    "\n",
    "import jax.numpy as jnp\n",
    "import jax"
   ]
  },
  {
   "cell_type": "code",
   "execution_count": 129,
   "id": "b7c90d2a-c544-435d-ad28-db800a51012a",
   "metadata": {},
   "outputs": [],
   "source": [
    "# npzfile = np.load(\"/groups/funke/home/mehtay/research/MetaLearnPlasticity/expdata/sparse_inputs/student_coeffs.npz\")\n",
    "# student_coefficients = npzfile['arr_0']\n",
    "# print(\"final student coefficients:\\n\", student_coefficients[-1])\n",
    "student_coefficients = np.zeros((3,3,3))\n",
    "student_coefficients[1][0][0] = 0.502\n",
    "student_coefficients[0][0][1] = -0.258\n",
    "\n",
    "teacher_coefficients = np.zeros((3,3,3))\n",
    "teacher_coefficients[1][1][0] = 1\n",
    "teacher_coefficients[0][2][1] = -1"
   ]
  },
  {
   "cell_type": "code",
   "execution_count": 165,
   "id": "b6bcb581-d621-4b39-90c4-24d024bf57cf",
   "metadata": {},
   "outputs": [
    {
     "data": {
      "text/plain": [
       "DeviceArray([[ 0.01878439, -0.        , -0.        ,  0.        ,\n",
       "               0.        ],\n",
       "             [ 0.        , -0.12833427, -0.        ,  0.        ,\n",
       "               0.        ],\n",
       "             [ 0.        , -0.        , -0.02710917,  0.        ,\n",
       "               0.        ],\n",
       "             [ 0.        , -0.        , -0.        ,  0.12490594,\n",
       "               0.        ],\n",
       "             [ 0.        , -0.        , -0.        ,  0.        ,\n",
       "               0.024447  ]], dtype=float32)"
      ]
     },
     "execution_count": 165,
     "metadata": {},
     "output_type": "execute_result"
    }
   ],
   "source": [
    "n=5\n",
    "\n",
    "key = jax.random.PRNGKey(0)\n",
    "0.1 * jnp.multiply(jax.random.normal(key, (n,)), jnp.eye(n))"
   ]
  },
  {
   "cell_type": "code",
   "execution_count": 160,
   "id": "b1d1fe56-8425-42a7-b7f8-ac03c81d4d93",
   "metadata": {},
   "outputs": [
    {
     "data": {
      "text/plain": [
       "DeviceArray([[ 0.18784384, -0.        , -0.        ,  0.        ,\n",
       "               0.        ],\n",
       "             [ 0.        , -1.2833426 , -0.        ,  0.        ,\n",
       "               0.        ],\n",
       "             [ 0.        , -0.        , -0.2710917 ,  0.        ,\n",
       "               0.        ],\n",
       "             [ 0.        , -0.        , -0.        ,  1.2490593 ,\n",
       "               0.        ],\n",
       "             [ 0.        , -0.        , -0.        ,  0.        ,\n",
       "               0.24447003]], dtype=float32)"
      ]
     },
     "execution_count": 160,
     "metadata": {},
     "output_type": "execute_result"
    }
   ],
   "source": [
    "key = jax.random.PRNGKey(0)\n",
    "aa = jax.random.normal(key, (5,))\n",
    "jnp.multiply(aa,jnp.eye(5))"
   ]
  },
  {
   "cell_type": "code",
   "execution_count": 164,
   "id": "33bce447-d078-4df0-a49d-d5e3b5c75433",
   "metadata": {},
   "outputs": [
    {
     "data": {
      "text/plain": [
       "(5,)"
      ]
     },
     "execution_count": 164,
     "metadata": {},
     "output_type": "execute_result"
    }
   ],
   "source": [
    "aa.shape"
   ]
  },
  {
   "cell_type": "code",
   "execution_count": 158,
   "id": "4f83149f-4292-4fe1-9961-707ae4122200",
   "metadata": {},
   "outputs": [
    {
     "data": {
      "text/plain": [
       "DeviceArray(5, dtype=int32)"
      ]
     },
     "execution_count": 158,
     "metadata": {},
     "output_type": "execute_result"
    }
   ],
   "source": [
    "jnp.count_nonzero(aa)"
   ]
  },
  {
   "cell_type": "code",
   "execution_count": 128,
   "id": "421ca336-7922-455d-b1a3-8b7528d9214a",
   "metadata": {},
   "outputs": [
    {
     "data": {
      "text/html": [
       "<div>\n",
       "<style scoped>\n",
       "    .dataframe tbody tr th:only-of-type {\n",
       "        vertical-align: middle;\n",
       "    }\n",
       "\n",
       "    .dataframe tbody tr th {\n",
       "        vertical-align: top;\n",
       "    }\n",
       "\n",
       "    .dataframe thead th {\n",
       "        text-align: right;\n",
       "    }\n",
       "</style>\n",
       "<table border=\"1\" class=\"dataframe\">\n",
       "  <thead>\n",
       "    <tr style=\"text-align: right;\">\n",
       "      <th></th>\n",
       "      <th>Unnamed: 0</th>\n",
       "      <th>loss</th>\n",
       "      <th>r2_score</th>\n",
       "      <th>epoch</th>\n",
       "    </tr>\n",
       "  </thead>\n",
       "  <tbody>\n",
       "    <tr>\n",
       "      <th>0</th>\n",
       "      <td>0</td>\n",
       "      <td>0.039480</td>\n",
       "      <td>0.015681</td>\n",
       "      <td>0</td>\n",
       "    </tr>\n",
       "    <tr>\n",
       "      <th>1</th>\n",
       "      <td>1</td>\n",
       "      <td>0.026797</td>\n",
       "      <td>0.165212</td>\n",
       "      <td>1</td>\n",
       "    </tr>\n",
       "    <tr>\n",
       "      <th>2</th>\n",
       "      <td>2</td>\n",
       "      <td>0.021867</td>\n",
       "      <td>0.282218</td>\n",
       "      <td>2</td>\n",
       "    </tr>\n",
       "    <tr>\n",
       "      <th>3</th>\n",
       "      <td>3</td>\n",
       "      <td>0.018581</td>\n",
       "      <td>0.379975</td>\n",
       "      <td>3</td>\n",
       "    </tr>\n",
       "    <tr>\n",
       "      <th>4</th>\n",
       "      <td>4</td>\n",
       "      <td>0.016075</td>\n",
       "      <td>0.462064</td>\n",
       "      <td>4</td>\n",
       "    </tr>\n",
       "  </tbody>\n",
       "</table>\n",
       "</div>"
      ],
      "text/plain": [
       "   Unnamed: 0      loss  r2_score  epoch\n",
       "0           0  0.039480  0.015681      0\n",
       "1           1  0.026797  0.165212      1\n",
       "2           2  0.021867  0.282218      2\n",
       "3           3  0.018581  0.379975      3\n",
       "4           4  0.016075  0.462064      4"
      ]
     },
     "execution_count": 128,
     "metadata": {},
     "output_type": "execute_result"
    }
   ],
   "source": [
    "data = pd.read_csv(\"/groups/funke/home/mehtay/research/MetaLearnPlasticity/expdata/sparse_inputs/expdf.csv\")\n",
    "data.head()"
   ]
  },
  {
   "cell_type": "code",
   "execution_count": 111,
   "id": "9eef5efc-1568-481c-8e31-e3138ee10963",
   "metadata": {},
   "outputs": [
    {
     "data": {
      "image/png": "[encoded data removed]",
      "text/plain": [
       "<Figure size 1080x360 with 3 Axes>"
      ]
     },
     "metadata": {
      "needs_background": "light"
     },
     "output_type": "display_data"
    }
   ],
   "source": [
    "fontsize = 13\n",
    "epochs = 100\n",
    "\n",
    "fig, axes = plt.subplots(1, 3, figsize=(15, 5))\n",
    "axes[0].axhline(y=1, color='yellowgreen', linestyle='--', linewidth=linewidth*0.7, alpha=0.8)\n",
    "axes[0].axhline(y=-1, color='yellowgreen', linestyle='--', linewidth=linewidth*0.7, alpha=0.8)\n",
    "\n",
    "for i in range(3):\n",
    "    for j in range(3):\n",
    "        for k in range(3):    \n",
    "            col = '#625D5D'\n",
    "            linewidth = 2\n",
    "            if i == 1 and j == 1 and k == 0:\n",
    "                # col = '#4863A0'\n",
    "                col = 'coral'\n",
    "                linewidth = 2.5\n",
    "            elif i == 0 and j == 2 and k == 1:\n",
    "                # col = '#fdb462'\n",
    "                col = 'coral'\n",
    "                linewidth = 2.5\n",
    "            axes[0].plot([i for i in range(epochs)], student_coefficients[:epochs,i,j,k],color = col, linewidth = linewidth)\n",
    "            \n",
    "# ax.set_ylabel(r'$A$', fontname=\"arial\", fontsize=fontsize , labelpad = 6)\n",
    "ax = axes[0]\n",
    "for ax in axes:\n",
    "    ax.spines['top'].set_visible(False)\n",
    "    ax.spines['right'].set_visible(False)\n",
    "    ax.spines['bottom'].set_linewidth(linewidth)\n",
    "    ax.spines['left'].set_linewidth(linewidth)\n",
    "    ax.tick_params(width=linewidth, labelsize=fontsize, length=2*linewidth)\n",
    "    ax.set_xticks([0,int(epochs/2), epochs])\n",
    "    ax.set_xlabel('Epochs', fontsize=fontsize)\n",
    "    ax.set_xlim([0,epochs])\n",
    "\n",
    "axes[0].axhline(y=0, color='yellowgreen', linestyle='--', linewidth=linewidth*0.7, alpha=0.8)\n",
    "axes[0].set_title(\"$A_{ijk}$\")\n",
    "axes[1].axhline(y=0, color='yellowgreen', linestyle='--', linewidth=linewidth*0.7, alpha=0.8)\n",
    "axes[1].set_title(\"MSE\")\n",
    "axes[2].axhline(y=1, color='yellowgreen', linestyle='--', linewidth=linewidth*0.7, alpha=0.8)\n",
    "axes[2].set_title(\"R2 score\")\n",
    "\n",
    "axes[1].plot([i for i in range(epochs)], data[\"loss\"][:epochs], color='orange', linewidth = linewidth)\n",
    "axes[2].plot([i for i in range(epochs)], data[\"r2_score\"][:epochs], linewidth = linewidth)\n",
    "\n",
    "# plt.show()\n",
    "plt.savefig('imgs/ojaexps/Aijk.png', dpi=500, bbox_inches=\"tight\")"
   ]
  },
  {
   "cell_type": "code",
   "execution_count": 130,
   "id": "8d0acce1-a5f2-4744-b564-3a9f901723f6",
   "metadata": {},
   "outputs": [],
   "source": [
    "def volterra_synapse_tensor(pre, post, weight):\n",
    "    synapse_tensor = jnp.outer(\n",
    "        jnp.outer(\n",
    "            jnp.array([pre**0, pre**1, pre**2]),\n",
    "            jnp.array([post**0, post**1, post**2]),\n",
    "        ),\n",
    "        jnp.array([weight**0, weight**1, weight**2]),\n",
    "    )\n",
    "\n",
    "    synapse_tensor = jnp.reshape(synapse_tensor, (3, 3, 3))\n",
    "    return synapse_tensor\n",
    "\n",
    "\n",
    "def volterra_plasticity_function(pre, post, weight, volterra_coefficients):\n",
    "\n",
    "    synapse_tensor = volterra_synapse_tensor(pre, post, weight)\n",
    "    dw = jnp.sum(jnp.multiply(volterra_coefficients, synapse_tensor))\n",
    "    return dw"
   ]
  },
  {
   "cell_type": "code",
   "execution_count": 136,
   "id": "0cc62359-0ddc-4d61-a991-61d65f279496",
   "metadata": {},
   "outputs": [],
   "source": [
    "w=0.1\n",
    "diff_tensor = np.zeros((3,20,20))\n",
    "x = np.arange(0.2, 0.4, 0.01)\n",
    "y = np.arange(0.4, 0.6, 0.01)\n",
    "\n",
    "x_grid, y_grid = np.meshgrid(x,y,indexing=\"ij\")\n",
    "epochs_snapshot = [0, 15, 100]\n",
    "\n",
    "# for index, epoch in enumerate(epochs_snapshot):\n",
    "#     for i in range(20):\n",
    "#         for j in range(20):\n",
    "#             diff_tensor[index][i][j] = abs(volterra_plasticity_function(x_grid[i][j],y_grid[i][j],w,teacher_coefficients) - volterra_plasticity_function(x_grid[i][j],y_grid[i][j],w,student_coefficients[epoch]))\n",
    "\n",
    "for index, epoch in enumerate(epochs_snapshot):\n",
    "    for i in range(20):\n",
    "        for j in range(20):\n",
    "            diff_tensor[index][i][j] = abs(volterra_plasticity_function(x_grid[i][j],y_grid[i][j],w,teacher_coefficients) - volterra_plasticity_function(x_grid[i][j],y_grid[i][j],w,student_coefficients))"
   ]
  },
  {
   "cell_type": "code",
   "execution_count": 141,
   "id": "d8551f7a-fe66-435a-8f0b-fee2e8c3e96e",
   "metadata": {},
   "outputs": [
    {
     "data": {
      "image/png": "[encoded data removed]",
      "text/plain": [
       "<Figure size 1080x360 with 4 Axes>"
      ]
     },
     "metadata": {
      "needs_background": "light"
     },
     "output_type": "display_data"
    }
   ],
   "source": [
    "vmin = np.min(diff_tensor)\n",
    "vmax = np.max(diff_tensor)\n",
    "\n",
    "fig, axes = plt.subplots(1, 3, figsize=(15, 5))\n",
    "norm = mcolors.Normalize(vmin=vmin, vmax=vmax)\n",
    "cmap='viridis'\n",
    "\n",
    "for epoch, ax, data in zip(epochs_snapshot, axes, list(diff_tensor)):\n",
    "    im = ax.imshow(data, cmap=cmap, norm=norm, aspect=1)\n",
    "    ax.set_title(\"Epoch {}\".format(epoch))\n",
    "    ax.set_yticks(ticks=[0, 9, 19], labels=[0.2, 0.3, 0.4])\n",
    "    ax.set_xticks(ticks=[0, 10, 19], labels=[0.4, 0.5, 0.6])\n",
    "    ax.set_xlabel(\"Y\")\n",
    "\n",
    "axes[0].set_ylabel(\"X\")\n",
    "# fig.subplots_adjust(right=0.8)\n",
    "fig.colorbar(im, ax=axes[:], shrink=0.6)\n",
    "\n",
    "# plt.show()\n",
    "plt.savefig('imgs/ojaexps/diff_tensor', dpi=500)"
   ]
  },
  {
   "cell_type": "code",
   "execution_count": 140,
   "id": "862a81ed-d6a3-4453-8673-58757f906c74",
   "metadata": {},
   "outputs": [
    {
     "data": {
      "text/plain": [
       "array([0.5, 0.5, 0.5, 0.5, 0.5, 0.5, 0.5, 0.5, 0.5, 0.5, 0.5, 0.5, 0.5,\n",
       "       0.5, 0.5, 0.5, 0.5, 0.5, 0.5, 0.5])"
      ]
     },
     "execution_count": 140,
     "metadata": {},
     "output_type": "execute_result"
    }
   ],
   "source": [
    "y_grid[:,10]"
   ]
  },
  {
   "cell_type": "code",
   "execution_count": 149,
   "id": "c4e74a47-6a8b-4308-adf0-1e804613822b",
   "metadata": {},
   "outputs": [
    {
     "data": {
      "text/plain": [
       "1.0"
      ]
     },
     "execution_count": 149,
     "metadata": {},
     "output_type": "execute_result"
    }
   ],
   "source": [
    "aa = np.ones((3,4))\n",
    "np.min(aa)"
   ]
  },
  {
   "cell_type": "code",
   "execution_count": 88,
   "id": "282fc6af-f056-4452-903d-44e80cd97f67",
   "metadata": {},
   "outputs": [],
   "source": [
    "for i in range(20):\n",
    "    for j in range(20):\n",
    "        dw_matrix[i][j] = volterra_plasticity_function(x_grid[i][j],y_grid[i][j],w,student_coefficients[-1]) - volterra_plasticity_function(x_grid[i][j],y_grid[i][j],w,teacher_coefficients)"
   ]
  },
  {
   "cell_type": "code",
   "execution_count": 89,
   "id": "a5d477d3-4251-47a2-bf3e-b4832c6d061f",
   "metadata": {},
   "outputs": [
    {
     "data": {
      "image/png": "[encoded data removed]",
      "text/plain": [
       "<Figure size 360x360 with 2 Axes>"
      ]
     },
     "metadata": {
      "needs_background": "light"
     },
     "output_type": "display_data"
    }
   ],
   "source": [
    "fig, ax = plt.subplots(figsize=(5, 5))\n",
    "pos = ax.imshow(dw_matrix)\n",
    "plt.xticks(ticks=[0, 9, 19], labels=[0, 0.5, 1], fontsize=13, fontname='Arial')\n",
    "plt.yticks(ticks=[0, 9, 19], labels=[-0.2, 0, 0.2], fontsize=13, fontname='Arial')\n",
    "\n",
    "# ax.xaxis.tick_top()\n",
    "cbar = fig.colorbar(pos, ax=ax, shrink=0.7)\n",
    "# cbar = fig.colorbar(pos, ax=ax, anchor=(0, 0.3), shrink=0.7, ticks=[0.5, 1])\n",
    "# cbar = fig.colorbar(pos, ax=ax, shrink=0.7, ticks=[0, 0.001, 0.002, 0.003, 0.004, 0.005])\n",
    "# cbar.ax.set_yticklabels(['0', '1e-3', '2e-3', '3e-3', '4e-3', '5e-3'])\n",
    "cbar.minorticks_on()\n",
    "\n",
    "plt.show()"
   ]
  },
  {
   "cell_type": "code",
   "execution_count": 51,
   "id": "a12b6518-7086-4d52-a07f-36a3d61ad006",
   "metadata": {},
   "outputs": [
    {
     "data": {
      "text/plain": [
       "DeviceArray(-0.1, dtype=float32)"
      ]
     },
     "execution_count": 51,
     "metadata": {},
     "output_type": "execute_result"
    }
   ],
   "source": [
    "volterra_plasticity_function(-0.2,1,-0.1,teacher_coefficients)"
   ]
  },
  {
   "cell_type": "code",
   "execution_count": 52,
   "id": "5118fac1-4f69-4c11-a886-e575140156f2",
   "metadata": {},
   "outputs": [
    {
     "data": {
      "text/plain": [
       "DeviceArray(-0.3, dtype=float32)"
      ]
     },
     "execution_count": 52,
     "metadata": {},
     "output_type": "execute_result"
    }
   ],
   "source": [
    "volterra_plasticity_function(-0.2,1,0.1,teacher_coefficients)"
   ]
  },
  {
   "cell_type": "code",
   "execution_count": 50,
   "id": "4f3e632f-f512-4111-8587-4ca64d538329",
   "metadata": {},
   "outputs": [
    {
     "data": {
      "image/png": "[encoded data removed]",
      "text/plain": [
       "<Figure size 288x288 with 2 Axes>"
      ]
     },
     "metadata": {
      "needs_background": "light"
     },
     "output_type": "display_data"
    }
   ],
   "source": [
    "fig, ax = plt.subplots(figsize=(4, 4))\n",
    "pos = ax.imshow(dw_matrix)\n",
    "plt.xticks(ticks=[0, 9, 19], labels=[-0.2, 0, 0.2], fontsize=13, fontname='Arial')\n",
    "plt.yticks(ticks=[0, 9, 19], labels=[0, 0.5, 1], fontsize=13, fontname='Arial')\n",
    "\n",
    "# ax.xaxis.tick_top()\n",
    "cbar = fig.colorbar(pos, ax=ax, shrink=0.7)\n",
    "# cbar = fig.colorbar(pos, ax=ax, anchor=(0, 0.3), shrink=0.7, ticks=[0.5, 1])\n",
    "# cbar = fig.colorbar(pos, ax=ax, shrink=0.7, ticks=[0, 0.001, 0.002, 0.003, 0.004, 0.005])\n",
    "# cbar.ax.set_yticklabels(['0', '1e-3', '2e-3', '3e-3', '4e-3', '5e-3'])\n",
    "cbar.minorticks_on()\n",
    "\n",
    "plt.show()"
   ]
  },
  {
   "cell_type": "code",
   "execution_count": null,
   "id": "3fa1380b-b6e3-4827-a054-60c1fd7aca9a",
   "metadata": {},
   "outputs": [],
   "source": []
  }
 ],
 "metadata": {
  "kernelspec": {
   "display_name": "plastix",
   "language": "python",
   "name": "plastix"
  },
  "language_info": {
   "codemirror_mode": {
    "name": "ipython",
    "version": 3
   },
   "file_extension": ".py",
   "mimetype": "text/x-python",
   "name": "python",
   "nbconvert_exporter": "python",
   "pygments_lexer": "ipython3",
   "version": "3.9.7"
  }
 },
 "nbformat": 4,
 "nbformat_minor": 5
}
