{
 "cells": [
  {
   "cell_type": "code",
   "execution_count": 13,
   "id": "0ad68158-ea2b-440f-a92a-86acc4abaf0b",
   "metadata": {},
   "outputs": [],
   "source": [
    "import matplotlib.pyplot as plt\n",
    "import seaborn as sns\n",
    "import pandas as pd\n",
    "import numpy as np\n",
    "\n",
    "import jax.numpy as jnp"
   ]
  },
  {
   "cell_type": "code",
   "execution_count": 3,
   "id": "b7c90d2a-c544-435d-ad28-db800a51012a",
   "metadata": {},
   "outputs": [],
   "source": [
    "npzfile = np.load(\"/groups/funke/home/mehtay/research/MetaLearnPlasticity/expdata/sparse_inputs/student_coeffs.npz\")\n",
    "student_coefficients = npzfile['arr_0']"
   ]
  },
  {
   "cell_type": "code",
   "execution_count": 5,
   "id": "90fe8dba-7333-4240-a3a5-86060567ccb6",
   "metadata": {},
   "outputs": [
    {
     "data": {
      "text/plain": [
       "array([[[ 0.0006658 , -0.1956841 , -0.04347795],\n",
       "        [ 0.00048848, -0.1925875 , -0.0417416 ],\n",
       "        [ 0.00141928, -0.1914893 , -0.04168499]],\n",
       "\n",
       "       [[ 0.30143824, -0.11114246, -0.02226795],\n",
       "        [ 0.30076033, -0.10681602, -0.01619245],\n",
       "        [ 0.29930753, -0.10368746, -0.00871437]],\n",
       "\n",
       "       [[ 0.23641671, -0.10826623,  0.00373272],\n",
       "        [ 0.23225121, -0.09992494,  0.00582166],\n",
       "        [ 0.23063987, -0.08497818,  0.00295383]]], dtype=float32)"
      ]
     },
     "execution_count": 5,
     "metadata": {},
     "output_type": "execute_result"
    }
   ],
   "source": [
    "student_coefficients[-1]"
   ]
  },
  {
   "cell_type": "code",
   "execution_count": 11,
   "id": "3265a08b-bdc0-444d-8b8f-d188f9d489c8",
   "metadata": {},
   "outputs": [],
   "source": [
    "teacher_coefficients = np.zeros((3,3,3))\n",
    "teacher_coefficients[1][1][0] = 1\n",
    "teacher_coefficients[0][2][1] = -1"
   ]
  },
  {
   "cell_type": "code",
   "execution_count": 10,
   "id": "5d662f67-a098-42d6-a3a1-60889da0fae6",
   "metadata": {},
   "outputs": [
    {
     "data": {
      "text/plain": [
       "array([[[ 0.,  0.,  0.],\n",
       "        [ 0.,  0.,  0.],\n",
       "        [ 0., -1.,  0.]],\n",
       "\n",
       "       [[ 0.,  0.,  0.],\n",
       "        [ 1.,  0.,  0.],\n",
       "        [ 0.,  0.,  0.]],\n",
       "\n",
       "       [[ 0.,  0.,  0.],\n",
       "        [ 0.,  0.,  0.],\n",
       "        [ 0.,  0.,  0.]]])"
      ]
     },
     "execution_count": 10,
     "metadata": {},
     "output_type": "execute_result"
    }
   ],
   "source": [
    "teacher_coefficients"
   ]
  },
  {
   "cell_type": "code",
   "execution_count": 8,
   "id": "8d0acce1-a5f2-4744-b564-3a9f901723f6",
   "metadata": {},
   "outputs": [],
   "source": [
    "def volterra_synapse_tensor(pre, post, weight):\n",
    "    synapse_tensor = jnp.outer(\n",
    "        jnp.outer(\n",
    "            jnp.array([pre**0, pre**1, pre**2]),\n",
    "            jnp.array([post**0, post**1, post**2]),\n",
    "        ),\n",
    "        jnp.array([weight**0, weight**1, weight**2]),\n",
    "    )\n",
    "\n",
    "    synapse_tensor = jnp.reshape(synapse_tensor, (3, 3, 3))\n",
    "    return synapse_tensor\n",
    "\n",
    "\n",
    "def volterra_plasticity_function(pre, post, weight, volterra_coefficients):\n",
    "\n",
    "    synapse_tensor = volterra_synapse_tensor(pre, post, weight)\n",
    "    dw = jnp.sum(jnp.multiply(volterra_coefficients, synapse_tensor))\n",
    "    return dw"
   ]
  },
  {
   "cell_type": "code",
   "execution_count": 16,
   "id": "9d853868-ca63-43c3-bb4a-76b0ed7582a6",
   "metadata": {},
   "outputs": [
    {
     "data": {
      "text/plain": [
       "DeviceArray(0., dtype=float32)"
      ]
     },
     "execution_count": 16,
     "metadata": {},
     "output_type": "execute_result"
    }
   ],
   "source": [
    "\n",
    "volterra_plasticity_function(x,y,w,teacher_coefficients)"
   ]
  },
  {
   "cell_type": "code",
   "execution_count": 17,
   "id": "e96748b7-c0f9-4615-9413-4d2a6e2e7c8d",
   "metadata": {},
   "outputs": [
    {
     "data": {
      "text/plain": [
       "DeviceArray(9.169669, dtype=float32)"
      ]
     },
     "execution_count": 17,
     "metadata": {},
     "output_type": "execute_result"
    }
   ],
   "source": [
    "volterra_plasticity_function(x,y,w,student_coefficients)"
   ]
  },
  {
   "cell_type": "code",
   "execution_count": 39,
   "id": "f0bc8f2e-e7a1-496d-8635-a9d20b9de17a",
   "metadata": {},
   "outputs": [],
   "source": [
    "dw_matrix = np.zeros((20,20))\n",
    "x = np.arange(-0.2, 0.2, 0.02)\n",
    "y = np.arange(0, 1, 0.05)"
   ]
  },
  {
   "cell_type": "code",
   "execution_count": 40,
   "id": "9159d8c7-3175-4949-b873-6be3eae2958e",
   "metadata": {},
   "outputs": [],
   "source": [
    "x_grid, y_grid = np.meshgrid(x,y,indexing=\"ij\")"
   ]
  },
  {
   "cell_type": "code",
   "execution_count": 67,
   "id": "98004fe1-5cb5-47e0-b7a1-b8b301cd1df4",
   "metadata": {},
   "outputs": [
    {
     "data": {
      "text/plain": [
       "array([0.18, 0.18, 0.18, 0.18, 0.18, 0.18, 0.18, 0.18, 0.18, 0.18, 0.18,\n",
       "       0.18, 0.18, 0.18, 0.18, 0.18, 0.18, 0.18, 0.18, 0.18])"
      ]
     },
     "execution_count": 67,
     "metadata": {},
     "output_type": "execute_result"
    }
   ],
   "source": [
    "x_grid[-1]"
   ]
  },
  {
   "cell_type": "code",
   "execution_count": 58,
   "id": "0cc62359-0ddc-4d61-a991-61d65f279496",
   "metadata": {},
   "outputs": [],
   "source": [
    "w=0.1\n",
    "\n",
    "for i in range(20):\n",
    "    for j in range(20):\n",
    "        dw_matrix[i][j] = volterra_plasticity_function(x_grid[i][j],y_grid[i][j],w,teacher_coefficients)"
   ]
  },
  {
   "cell_type": "code",
   "execution_count": 59,
   "id": "4ef77314-c8af-4947-a27a-ec6448fd592c",
   "metadata": {},
   "outputs": [
    {
     "data": {
      "image/png": "[encoded data removed]",
      "text/plain": [
       "<Figure size 288x288 with 2 Axes>"
      ]
     },
     "metadata": {
      "needs_background": "light"
     },
     "output_type": "display_data"
    }
   ],
   "source": [
    "fig, ax = plt.subplots(figsize=(4, 4))\n",
    "pos = ax.imshow(dw_matrix)\n",
    "# plt.xticks(ticks=[0, 9, 19], labels=[-0.2, 0, 0.2], fontsize=13, fontname='Arial')\n",
    "# plt.yticks(ticks=[0, 9, 19], labels=[0, 0.5, 1], fontsize=13, fontname='Arial')\n",
    "\n",
    "# ax.xaxis.tick_top()\n",
    "cbar = fig.colorbar(pos, ax=ax, shrink=0.7)\n",
    "# cbar = fig.colorbar(pos, ax=ax, anchor=(0, 0.3), shrink=0.7, ticks=[0.5, 1])\n",
    "# cbar = fig.colorbar(pos, ax=ax, shrink=0.7, ticks=[0, 0.001, 0.002, 0.003, 0.004, 0.005])\n",
    "# cbar.ax.set_yticklabels(['0', '1e-3', '2e-3', '3e-3', '4e-3', '5e-3'])\n",
    "cbar.minorticks_on()\n",
    "\n",
    "plt.show()"
   ]
  },
  {
   "cell_type": "code",
   "execution_count": 60,
   "id": "282fc6af-f056-4452-903d-44e80cd97f67",
   "metadata": {},
   "outputs": [],
   "source": [
    "w=-0.1\n",
    "\n",
    "for i in range(20):\n",
    "    for j in range(20):\n",
    "        dw_matrix[i][j] = volterra_plasticity_function(x_grid[i][j],y_grid[i][j],w,teacher_coefficients)"
   ]
  },
  {
   "cell_type": "code",
   "execution_count": 64,
   "id": "8606cadd-96a0-4855-b9f2-29c62a866958",
   "metadata": {},
   "outputs": [
    {
     "data": {
      "text/plain": [
       "-0.18000000000000002"
      ]
     },
     "execution_count": 64,
     "metadata": {},
     "output_type": "execute_result"
    }
   ],
   "source": [
    "x_grid[1][1]"
   ]
  },
  {
   "cell_type": "code",
   "execution_count": 63,
   "id": "a5d477d3-4251-47a2-bf3e-b4832c6d061f",
   "metadata": {},
   "outputs": [
    {
     "data": {
      "image/png": "[encoded data removed]",
      "text/plain": [
       "<Figure size 288x288 with 2 Axes>"
      ]
     },
     "metadata": {
      "needs_background": "light"
     },
     "output_type": "display_data"
    }
   ],
   "source": [
    "fig, ax = plt.subplots(figsize=(4, 4))\n",
    "pos = ax.imshow(dw_matrix)\n",
    "plt.xticks(ticks=[0, 9, 19], labels=[0, 0.5, 1], fontsize=13, fontname='Arial')\n",
    "# plt.yticks(ticks=[0, 9, 19], labels=[0, 0.5, 1], fontsize=13, fontname='Arial')\n",
    "\n",
    "# ax.xaxis.tick_top()\n",
    "cbar = fig.colorbar(pos, ax=ax, shrink=0.7)\n",
    "# cbar = fig.colorbar(pos, ax=ax, anchor=(0, 0.3), shrink=0.7, ticks=[0.5, 1])\n",
    "# cbar = fig.colorbar(pos, ax=ax, shrink=0.7, ticks=[0, 0.001, 0.002, 0.003, 0.004, 0.005])\n",
    "# cbar.ax.set_yticklabels(['0', '1e-3', '2e-3', '3e-3', '4e-3', '5e-3'])\n",
    "cbar.minorticks_on()\n",
    "\n",
    "plt.show()"
   ]
  },
  {
   "cell_type": "code",
   "execution_count": 51,
   "id": "a12b6518-7086-4d52-a07f-36a3d61ad006",
   "metadata": {},
   "outputs": [
    {
     "data": {
      "text/plain": [
       "DeviceArray(-0.1, dtype=float32)"
      ]
     },
     "execution_count": 51,
     "metadata": {},
     "output_type": "execute_result"
    }
   ],
   "source": [
    "volterra_plasticity_function(-0.2,1,-0.1,teacher_coefficients)"
   ]
  },
  {
   "cell_type": "code",
   "execution_count": 52,
   "id": "5118fac1-4f69-4c11-a886-e575140156f2",
   "metadata": {},
   "outputs": [
    {
     "data": {
      "text/plain": [
       "DeviceArray(-0.3, dtype=float32)"
      ]
     },
     "execution_count": 52,
     "metadata": {},
     "output_type": "execute_result"
    }
   ],
   "source": [
    "volterra_plasticity_function(-0.2,1,0.1,teacher_coefficients)"
   ]
  },
  {
   "cell_type": "code",
   "execution_count": 50,
   "id": "4f3e632f-f512-4111-8587-4ca64d538329",
   "metadata": {},
   "outputs": [
    {
     "data": {
      "image/png": "[encoded data removed]",
      "text/plain": [
       "<Figure size 288x288 with 2 Axes>"
      ]
     },
     "metadata": {
      "needs_background": "light"
     },
     "output_type": "display_data"
    }
   ],
   "source": [
    "fig, ax = plt.subplots(figsize=(4, 4))\n",
    "pos = ax.imshow(dw_matrix)\n",
    "plt.xticks(ticks=[0, 9, 19], labels=[-0.2, 0, 0.2], fontsize=13, fontname='Arial')\n",
    "plt.yticks(ticks=[0, 9, 19], labels=[0, 0.5, 1], fontsize=13, fontname='Arial')\n",
    "\n",
    "# ax.xaxis.tick_top()\n",
    "cbar = fig.colorbar(pos, ax=ax, shrink=0.7)\n",
    "# cbar = fig.colorbar(pos, ax=ax, anchor=(0, 0.3), shrink=0.7, ticks=[0.5, 1])\n",
    "# cbar = fig.colorbar(pos, ax=ax, shrink=0.7, ticks=[0, 0.001, 0.002, 0.003, 0.004, 0.005])\n",
    "# cbar.ax.set_yticklabels(['0', '1e-3', '2e-3', '3e-3', '4e-3', '5e-3'])\n",
    "cbar.minorticks_on()\n",
    "\n",
    "plt.show()"
   ]
  },
  {
   "cell_type": "code",
   "execution_count": null,
   "id": "3fa1380b-b6e3-4827-a054-60c1fd7aca9a",
   "metadata": {},
   "outputs": [],
   "source": []
  }
 ],
 "metadata": {
  "kernelspec": {
   "display_name": "plastix",
   "language": "python",
   "name": "plastix"
  },
  "language_info": {
   "codemirror_mode": {
    "name": "ipython",
    "version": 3
   },
   "file_extension": ".py",
   "mimetype": "text/x-python",
   "name": "python",
   "nbconvert_exporter": "python",
   "pygments_lexer": "ipython3",
   "version": "3.9.7"
  }
 },
 "nbformat": 4,
 "nbformat_minor": 5
}
