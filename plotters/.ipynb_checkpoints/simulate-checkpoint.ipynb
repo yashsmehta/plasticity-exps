{
 "cells": [
  {
   "cell_type": "code",
   "execution_count": 1,
   "id": "846815ce-1540-4362-820d-462a83a3a34f",
   "metadata": {},
   "outputs": [],
   "source": [
    "from functools import partial\n",
    "from tqdm import tqdm\n",
    "from utils import generate_gaussian\n",
    "import jax\n",
    "import jax.numpy as jnp\n",
    "import network\n",
    "import numpy as np\n",
    "import optax\n",
    "import synapse\n",
    "import time\n",
    "from jax.lax import reshape\n",
    "from jax import vmap\n",
    "import matplotlib.pyplot as plt"
   ]
  },
  {
   "cell_type": "code",
   "execution_count": 2,
   "id": "fd7572f6-82c3-47ed-83ca-aab912eea329",
   "metadata": {},
   "outputs": [],
   "source": [
    "def compute_loss(student_trajectory, teacher_trajectory):\n",
    "    \"\"\"\n",
    "    takes a single student and teacher trajectory and return the MSE loss\n",
    "    between them\n",
    "    \"\"\"\n",
    "    return jnp.mean(optax.l2_loss(student_trajectory, teacher_trajectory))\n",
    "\n",
    "\n",
    "@partial(jax.jit, static_argnames=['student_plasticity_function', 'activation_function'])\n",
    "def compute_plasticity_coefficients_loss(\n",
    "        input_sequence,\n",
    "        teacher_trajectory,\n",
    "        student_coefficients,\n",
    "        student_plasticity_function,\n",
    "        winit_student,\n",
    "        activation_function):\n",
    "    \"\"\"\n",
    "    generates the student trajectory using corresponding coefficients and then\n",
    "    calls function to compute loss to the given teacher trajectory\n",
    "    \"\"\"\n",
    "\n",
    "    student_trajectory = network.generate_trajectory(\n",
    "        input_sequence,\n",
    "        winit_student,\n",
    "        student_coefficients,\n",
    "        student_plasticity_function,\n",
    "        activation_function)\n",
    "\n",
    "    loss = compute_loss(student_trajectory, teacher_trajectory)\n",
    "\n",
    "    return loss"
   ]
  },
  {
   "cell_type": "code",
   "execution_count": 3,
   "id": "5a5efe09-56a0-46dd-b093-af77c46b9656",
   "metadata": {},
   "outputs": [],
   "source": [
    "loss = 0\n",
    "\n",
    "def generate_trajectory(\n",
    "        input_sequence,\n",
    "        initial_weights,\n",
    "        plasticity_parameters,\n",
    "        plasticity_function,\n",
    "        activation_function):\n",
    "    \"\"\"\n",
    "    generate a single activity and weight trajectory given an input sequence, initial weights\n",
    "    and the \"meta\" plasticity coefficients\n",
    "    \"\"\"\n",
    "    weight_trajec, activity_trajec = [], []\n",
    "    len_trajec, m = input_sequence.shape\n",
    "    weights = initial_weights\n",
    "    \n",
    "    for i in range(len_trajec):\n",
    "        weights, activity = network_step(input_sequence[i], weights, plasticity_parameters, plasticity_function, activation_function)\n",
    "        weight_trajec.append(weights)\n",
    "        activity_trajec.append(activity)\n",
    "        \n",
    "    return np.array(weight_trajec), np.array(activity_trajec)\n",
    "\n",
    "\n",
    "def network_step(\n",
    "        inputs,\n",
    "        weights,\n",
    "        plasticity_parameters,\n",
    "        plasticity_function,\n",
    "        activation_function):\n",
    "\n",
    "    outputs = activation_function(inputs @ weights)\n",
    "\n",
    "    m, n = weights.shape\n",
    "    in_grid, out_grid = jnp.meshgrid(\n",
    "        reshape(inputs, (m,)), reshape(outputs, (n,)), indexing=\"ij\"\n",
    "    )\n",
    "\n",
    "    dw = vmap(plasticity_function, in_axes=(0, 0, 0, None))(\n",
    "            reshape(in_grid, (m * n, 1)),\n",
    "            reshape(out_grid, (m * n, 1)),\n",
    "            reshape(weights, (m * n, 1)),\n",
    "            plasticity_parameters)\n",
    "\n",
    "    dw = reshape(dw, (m, n))\n",
    "\n",
    "    weights += dw\n",
    "\n",
    "    return (weights, outputs)"
   ]
  },
  {
   "cell_type": "code",
   "execution_count": 4,
   "id": "cd5bfeb5-bded-4a50-886c-6c7d65ede20b",
   "metadata": {},
   "outputs": [
    {
     "name": "stdout",
     "output_type": "stream",
     "text": [
      "trajectory length:  500\n",
      "platform:  gpu\n",
      "layer size: [20, 20]\n",
      "\n"
     ]
    }
   ],
   "source": [
    "len_trajec = 500\n",
    "input_dim, output_dim = 20, 20\n",
    "\n",
    "activation_function = jax.nn.sigmoid\n",
    "\n",
    "teacher_coefficients, teacher_plasticity_function = \\\n",
    "    synapse.init_volterra('oja')\n",
    "\n",
    "key = jax.random.PRNGKey(0)\n",
    "student_coefficients, student_plasticity_function = \\\n",
    "    synapse.init_volterra('random', key)\n",
    "\n",
    "key, key2 = jax.random.split(key)\n",
    "\n",
    "winit_teacher = generate_gaussian(\n",
    "                    key,\n",
    "                    (input_dim, output_dim),\n",
    "                    scale=1 / (input_dim + output_dim))\n",
    "\n",
    "winit_student = generate_gaussian(\n",
    "                    key,\n",
    "                    (input_dim, output_dim),\n",
    "                    scale=1 / (input_dim + output_dim))\n",
    "key, key2 = jax.random.split(key)\n",
    "\n",
    "# (length_trajectory, input_dim)\n",
    "input_sequence = generate_gaussian(\n",
    "    key,\n",
    "    (len_trajec, input_dim),\n",
    "    scale=0.1)\n",
    "\n",
    "# are we running on CPU or GPU?\n",
    "device = jax.lib.xla_bridge.get_backend().platform\n",
    "print(\"trajectory length: \", len_trajec)\n",
    "print(\"platform: \", device)\n",
    "print(\"layer size: [{}, {}]\".format(input_dim, output_dim))\n",
    "print()"
   ]
  },
  {
   "cell_type": "code",
   "execution_count": 5,
   "id": "919073e2-3fd0-4911-8614-0f5055d27d39",
   "metadata": {},
   "outputs": [
    {
     "data": {
      "text/plain": [
       "(500, 20)"
      ]
     },
     "execution_count": 5,
     "metadata": {},
     "output_type": "execute_result"
    }
   ],
   "source": [
    "input_sequence.shape"
   ]
  },
  {
   "cell_type": "code",
   "execution_count": 6,
   "id": "150799c0-1710-4238-8041-6543beae2464",
   "metadata": {},
   "outputs": [],
   "source": [
    "# get all teacher trajectories\n",
    "teacher_w_trajectory, teacher_a_trajectory = generate_trajectory(\n",
    "    input_sequence,\n",
    "    winit_teacher,\n",
    "    teacher_coefficients,\n",
    "    teacher_plasticity_function,\n",
    "    activation_function)\n",
    "\n",
    "# get all student trajectories\n",
    "student_w_trajectory, student_a_trajectory = generate_trajectory(\n",
    "    input_sequence,\n",
    "    winit_student,\n",
    "    student_coefficients,\n",
    "    student_plasticity_function,\n",
    "    activation_function)"
   ]
  },
  {
   "cell_type": "code",
   "execution_count": 7,
   "id": "d920c773-c68f-4db8-932c-f4a5b45c114e",
   "metadata": {},
   "outputs": [],
   "source": [
    "# save teacher activity and weight trajectories\n",
    "np.savez(\"expdata/trajec/{}/teacher_w\".format(len_trajec), teacher_w_trajectory)\n",
    "np.savez(\"expdata/trajec/{}/teacher_a\".format(len_trajec), teacher_a_trajectory)\n",
    "\n",
    "# save student activity and weight trajectories\n",
    "np.savez(\"expdata/trajec/{}/student_w\".format(len_trajec), student_w_trajectory)\n",
    "np.savez(\"expdata/trajec/{}/student_a\".format(len_trajec), student_a_trajectory)"
   ]
  },
  {
   "cell_type": "code",
   "execution_count": 34,
   "id": "9bfc7103-f0d0-40b3-a5dc-fdeac110207a",
   "metadata": {},
   "outputs": [],
   "source": [
    "atype = ['teacher_w', 'teacher_a', 'student_w', 'student_a']\n",
    "len_trajecs = [5, 50, 500]\n",
    "file_path = \"/groups/funke/home/mehtay/research/MetaLearnPlasticity/expdata/trajec\"\n",
    "\n",
    "npzfile = np.load(\"/groups/funke/home/mehtay/research/MetaLearnPlasticity/expdata/trajec/{}/{}.npz\".format(len_trajecs[0], atype[1]))\n",
    "imgs = npzfile['arr_0']"
   ]
  },
  {
   "cell_type": "code",
   "execution_count": 43,
   "id": "8f6daf4e-6535-4a7b-8dec-62e0b2e2cd11",
   "metadata": {},
   "outputs": [
    {
     "data": {
      "text/plain": [
       "(5, 20)"
      ]
     },
     "execution_count": 43,
     "metadata": {},
     "output_type": "execute_result"
    }
   ],
   "source": [
    "imgs.shape"
   ]
  },
  {
   "cell_type": "code",
   "execution_count": 52,
   "id": "3a3e1aa1-a4b5-4f60-856a-bd2e14792d35",
   "metadata": {},
   "outputs": [],
   "source": [
    "def plot_fig(img, vmin, vmax, file_name):\n",
    "    fig, ax = plt.subplots(figsize=(6, 6))\n",
    "    imshape = img.shape\n",
    "    if len(imshape) == 1:\n",
    "        img = img.reshape(imshape[0], 1)\n",
    "        plt.tick_params(\n",
    "            axis='x',          # changes apply to the x-axis\n",
    "            which='both',      # both major and minor ticks are affected\n",
    "            bottom=False,      # ticks along the bottom edge are off\n",
    "            top=False,         # ticks along the top edge are off\n",
    "            labelbottom=False) # labels along the bottom edge are off\n",
    "        \n",
    "    pos = ax.imshow(img, vmin=vmin, vmax=vmax)\n",
    "    plt.yticks(ticks=[0, 9, 19], labels=[0, 10, 20], fontsize=13, fontname='Arial')\n",
    "    if len(imshape) == 2:\n",
    "        plt.xticks(ticks=[0, 9, 19], labels=[0, 10, 20], fontsize=13, fontname='Arial')\n",
    "    \n",
    "    # ax.xaxis.tick_top()\n",
    "    # cbar = fig.colorbar(pos, ax=ax, anchor=(0, 0.3), shrink=0.7, ticks=[0.5, 1])\n",
    "    cbar = fig.colorbar(pos, ax=ax, shrink=0.7)\n",
    "    # cbar.ax.set_yticklabels(['0', '1e-3', '2e-3', '3e-3', '4e-3', '5e-3'])\n",
    "    cbar.minorticks_on()\n",
    "\n",
    "    plt.savefig(file_name, dpi=350)"
   ]
  },
  {
   "cell_type": "code",
   "execution_count": null,
   "id": "ee133290-ffe8-4103-bcb6-2971d6002cd4",
   "metadata": {},
   "outputs": [],
   "source": []
  },
  {
   "cell_type": "code",
   "execution_count": 53,
   "id": "75292b3a-dc04-437b-a2fb-d1c2dd0a7d07",
   "metadata": {},
   "outputs": [
    {
     "data": {
      "image/png": "[encoded data removed]",
      "text/plain": [
       "<Figure size 432x432 with 2 Axes>"
      ]
     },
     "metadata": {
      "needs_background": "light"
     },
     "output_type": "display_data"
    }
   ],
   "source": [
    "vmax = imgs.max()\n",
    "vmin = imgs.min()\n",
    "\n",
    "plot_fig(imgs[4], vmin, vmax, file_path+'/{}/{}.png'.format(len_trajec, atype[0]))"
   ]
  },
  {
   "cell_type": "code",
   "execution_count": 33,
   "id": "7ebd3745-a077-4e0d-9edd-83ff93604ea3",
   "metadata": {},
   "outputs": [
    {
     "data": {
      "image/png": "[encoded data removed]",
      "text/plain": [
       "<Figure size 432x432 with 2 Axes>"
      ]
     },
     "metadata": {
      "needs_background": "light"
     },
     "output_type": "display_data"
    }
   ],
   "source": [
    "plot_fig(imgs[4], vmin, vmax, file_path+'/{}/{}'.format(len_trajec, atype))"
   ]
  },
  {
   "cell_type": "code",
   "execution_count": null,
   "id": "ef7e1e2c-2872-4c15-839d-5092d6b3243e",
   "metadata": {},
   "outputs": [],
   "source": []
  }
 ],
 "metadata": {
  "kernelspec": {
   "display_name": "plastix",
   "language": "python",
   "name": "plastix"
  },
  "language_info": {
   "codemirror_mode": {
    "name": "ipython",
    "version": 3
   },
   "file_extension": ".py",
   "mimetype": "text/x-python",
   "name": "python",
   "nbconvert_exporter": "python",
   "pygments_lexer": "ipython3",
   "version": "3.9.7"
  }
 },
 "nbformat": 4,
 "nbformat_minor": 5
}
