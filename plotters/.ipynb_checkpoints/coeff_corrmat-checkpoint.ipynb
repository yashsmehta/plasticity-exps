{
 "cells": [
  {
   "cell_type": "code",
   "execution_count": 1,
   "id": "5f0330b2-e483-4df8-a6e2-b04bc4c21262",
   "metadata": {},
   "outputs": [],
   "source": [
    "import matplotlib.pyplot as plt\n",
    "import seaborn as sns\n",
    "import pandas as pd\n",
    "import numpy as np\n",
    "import matplotlib.colors as mcolors\n",
    "\n",
    "import glob\n",
    "from PIL import Image\n",
    "from scipy import interpolate"
   ]
  },
  {
   "cell_type": "code",
   "execution_count": 4,
   "id": "4cf86f74-701d-4ca1-b180-40f71118fb64",
   "metadata": {},
   "outputs": [
    {
     "name": "stdout",
     "output_type": "stream",
     "text": [
      "/groups/funke/home/mehtay/research/plasticity/plotters\n"
     ]
    }
   ],
   "source": [
    "!pwd"
   ]
  },
  {
   "cell_type": "code",
   "execution_count": 5,
   "id": "f72a4cfe-c29f-478d-a7cd-57f4a68dab26",
   "metadata": {},
   "outputs": [],
   "source": [
    "# Get all the csv files in the current directory\n",
    "csv_files = glob.glob(\"../experiments/logs/simdata/zero-init/*.csv\")\n",
    "\n",
    "# Create a list of dataframes\n",
    "dfs = []\n",
    "\n",
    "# Iterate over the csv files\n",
    "for csv_file in csv_files:\n",
    "\n",
    "    # Read the csv file into a dataframe\n",
    "    df = pd.read_csv(csv_file)\n",
    "\n",
    "    # Append the dataframe to the list of dataframes\n",
    "    dfs.append(df)\n",
    "\n",
    "# Concatenate the dataframes into a single dataframe\n",
    "df = pd.concat(dfs)"
   ]
  },
  {
   "cell_type": "code",
   "execution_count": 14,
   "id": "b90f5593-f917-420e-8fa0-5daeee29194a",
   "metadata": {},
   "outputs": [
    {
     "name": "stdout",
     "output_type": "stream",
     "text": [
      "['epoch', 'loss', 'r2_score', 'num_exps', 'num_epochs', 'trials_per_block', 'log_interval', 'num_blocks', 'base_noise', 'log_expdata', 'use_experimental_data', 'jobid', 'input_dim', 'output_dim', 'moving_avg_window', 'trainable_coeffs']\n"
     ]
    }
   ],
   "source": [
    "coeffs, other_columns = [], []\n",
    "\n",
    "for i in range(3):\n",
    "        for j in range(3):\n",
    "            for k in range(3):\n",
    "                coeffs.append(f\"A_{i}{j}{k}\")\n",
    "\n",
    "for column in df.columns:\n",
    "    if column not in set(coeffs):\n",
    "        other_columns.append(column)\n",
    "print(other_columns)"
   ]
  },
  {
   "cell_type": "code",
   "execution_count": 15,
   "id": "e6a20beb-7d94-42e1-9576-4ed77e81b8c0",
   "metadata": {},
   "outputs": [],
   "source": [
    "# df.drop(df[df[\"num_epochs\"] != num_epochs].index, inplace=True)\n",
    "\n",
    "for coeff in coeffs:\n",
    "    df[coeff] = pd.to_numeric(df[coeff])\n",
    "df[\"moving_avg_window\"] = df[\"moving_avg_window\"].astype(int)\n",
    "df[\"trials_per_block\"] = df[\"trials_per_block\"].astype(int)"
   ]
  },
  {
   "cell_type": "code",
   "execution_count": 16,
   "id": "87f0ae74-6423-4d26-ad02-8a3c0f53d670",
   "metadata": {},
   "outputs": [
    {
     "data": {
      "text/plain": [
       "A_000                    float64\n",
       "A_001                    float64\n",
       "A_002                    float64\n",
       "A_010                    float64\n",
       "A_011                    float64\n",
       "A_012                    float64\n",
       "A_020                    float64\n",
       "A_021                    float64\n",
       "A_022                    float64\n",
       "A_100                    float64\n",
       "A_101                    float64\n",
       "A_102                    float64\n",
       "A_110                    float64\n",
       "A_111                    float64\n",
       "A_112                    float64\n",
       "A_120                    float64\n",
       "A_121                    float64\n",
       "A_122                    float64\n",
       "A_200                    float64\n",
       "A_201                    float64\n",
       "A_202                    float64\n",
       "A_210                    float64\n",
       "A_211                    float64\n",
       "A_212                    float64\n",
       "A_220                    float64\n",
       "A_221                    float64\n",
       "A_222                    float64\n",
       "epoch                      int64\n",
       "loss                     float64\n",
       "r2_score                 float64\n",
       "num_exps                   int64\n",
       "num_epochs                 int64\n",
       "trials_per_block           int64\n",
       "log_interval               int64\n",
       "num_blocks                 int64\n",
       "base_noise               float64\n",
       "log_expdata                 bool\n",
       "use_experimental_data       bool\n",
       "jobid                      int64\n",
       "input_dim                  int64\n",
       "output_dim                 int64\n",
       "moving_avg_window          int64\n",
       "trainable_coeffs           int64\n",
       "dtype: object"
      ]
     },
     "execution_count": 16,
     "metadata": {},
     "output_type": "execute_result"
    }
   ],
   "source": [
    "df.dtypes"
   ]
  },
  {
   "cell_type": "code",
   "execution_count": 22,
   "id": "a3df9473-2ae3-49fc-a469-ffef96ad0893",
   "metadata": {},
   "outputs": [],
   "source": [
    "# take the evolution of plasticity coeffs\n",
    "df_subset = df.loc[(df['num_epochs'] == 2000)]\n",
    "\n",
    "# take only the final coeffs\n",
    "# df_subset = df.loc[(df['num_epochs'] == 2000) & (df['epoch'] == 1950)]\n",
    "\n",
    "coeffs = sorted(coeffs)\n",
    "drop_coeffs = []\n",
    "\n",
    "for i, coeff in enumerate(coeffs):\n",
    "    if coeff[-1] == '2':\n",
    "        drop_coeffs.append(coeff)\n",
    "        coeffs.pop(i)\n",
    "\n",
    "for coeff in drop_coeffs:\n",
    "    df_subset = df_subset.drop(coeff, axis=1)"
   ]
  },
  {
   "cell_type": "code",
   "execution_count": 23,
   "id": "d3debfb9-379e-4c86-a5d6-ffb43bd3a1d2",
   "metadata": {},
   "outputs": [],
   "source": [
    "corr_mat = np.zeros((18,18))\n",
    "\n",
    "coeffs = sorted(coeffs)\n",
    "\n",
    "for i, coeff_i in enumerate(coeffs):\n",
    "    for j, coeff_j in enumerate(coeffs):\n",
    "        corr_mat[i][j] = np.corrcoef(df[coeff_i],df[coeff_j])[0][1]\n",
    "\n"
   ]
  },
  {
   "cell_type": "code",
   "execution_count": 40,
   "id": "0bf45248-227a-41b9-b784-9c5f35651177",
   "metadata": {},
   "outputs": [
    {
     "data": {
      "text/plain": [
       "<Figure size 432x288 with 0 Axes>"
      ]
     },
     "metadata": {},
     "output_type": "display_data"
    },
    {
     "data": {
      "image/png": "[encoded data removed]",
      "text/plain": [
       "<Figure size 720x576 with 2 Axes>"
      ]
     },
     "metadata": {},
     "output_type": "display_data"
    }
   ],
   "source": [
    "sns.set(font_scale = 1.2)\n",
    "sns.set_style(\"white\")\n",
    "plt.tight_layout()\n",
    "\n",
    "fig, ax = plt.subplots(figsize=(10, 8))\n",
    "\n",
    "sns.heatmap(corr_mat, cmap='coolwarm', vmin=-1, vmax=1, xticklabels=coeffs, yticklabels=coeffs)\n",
    "plt.title(\"Correlation matrix of A_ijk\")\n",
    "plt.show()"
   ]
  },
  {
   "cell_type": "code",
   "execution_count": null,
   "id": "356d24d5-2e78-424c-8cd3-c1c3d4a6d1c6",
   "metadata": {},
   "outputs": [],
   "source": []
  }
 ],
 "metadata": {
  "kernelspec": {
   "display_name": "mb",
   "language": "python",
   "name": "mb"
  },
  "language_info": {
   "codemirror_mode": {
    "name": "ipython",
    "version": 3
   },
   "file_extension": ".py",
   "mimetype": "text/x-python",
   "name": "python",
   "nbconvert_exporter": "python",
   "pygments_lexer": "ipython3",
   "version": "3.9.7"
  }
 },
 "nbformat": 4,
 "nbformat_minor": 5
}
