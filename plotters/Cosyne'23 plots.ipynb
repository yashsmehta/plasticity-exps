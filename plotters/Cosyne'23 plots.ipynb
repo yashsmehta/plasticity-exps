{
 "cells": [
  {
   "cell_type": "code",
   "execution_count": 1,
   "id": "08389ae5-b193-4115-8843-a199ac49e4fb",
   "metadata": {},
   "outputs": [],
   "source": [
    "import matplotlib.pyplot as plt\n",
    "import pandas as pd\n",
    "import numpy as np\n",
    "# import seaborn as sns"
   ]
  },
  {
   "cell_type": "code",
   "execution_count": 51,
   "id": "ca54feda-bba5-48a3-a66a-d942de085cf7",
   "metadata": {},
   "outputs": [
    {
     "data": {
      "image/png": "[encoded data removed]",
      "text/plain": [
       "<Figure size 252x180 with 1 Axes>"
      ]
     },
     "metadata": {
      "needs_background": "light"
     },
     "output_type": "display_data"
    }
   ],
   "source": []
  },
  {
   "cell_type": "code",
   "execution_count": 3,
   "id": "798784ab-aaae-49a5-b0cd-50c04e257d1f",
   "metadata": {},
   "outputs": [
    {
     "name": "stdout",
     "output_type": "stream",
     "text": [
      "/groups/funke/home/mehtay/research/MetaLearnPlasticity/playground\n"
     ]
    }
   ],
   "source": [
    "!pwd"
   ]
  },
  {
   "cell_type": "code",
   "execution_count": 42,
   "id": "4ea8d123-58bf-461b-a920-7fd1aba49f39",
   "metadata": {},
   "outputs": [],
   "source": [
    "data = pd.read_csv(\"/groups/funke/home/mehtay/research/MetaLearnPlasticity/explogs/A_exps.csv\")"
   ]
  },
  {
   "cell_type": "code",
   "execution_count": 43,
   "id": "c76fe779-1017-4672-a601-2400a213d36e",
   "metadata": {},
   "outputs": [
    {
     "data": {
      "text/html": [
       "<div>\n",
       "<style scoped>\n",
       "    .dataframe tbody tr th:only-of-type {\n",
       "        vertical-align: middle;\n",
       "    }\n",
       "\n",
       "    .dataframe tbody tr th {\n",
       "        vertical-align: top;\n",
       "    }\n",
       "\n",
       "    .dataframe thead th {\n",
       "        text-align: right;\n",
       "    }\n",
       "</style>\n",
       "<table border=\"1\" class=\"dataframe\">\n",
       "  <thead>\n",
       "    <tr style=\"text-align: right;\">\n",
       "      <th></th>\n",
       "      <th>Unnamed: 0</th>\n",
       "      <th>A_000</th>\n",
       "      <th>A_001</th>\n",
       "      <th>A_002</th>\n",
       "      <th>A_010</th>\n",
       "      <th>A_011</th>\n",
       "      <th>A_012</th>\n",
       "      <th>A_020</th>\n",
       "      <th>A_021</th>\n",
       "      <th>A_022</th>\n",
       "      <th>...</th>\n",
       "      <th>num_trajec</th>\n",
       "      <th>len_trajec</th>\n",
       "      <th>type</th>\n",
       "      <th>upto_ith_order</th>\n",
       "      <th>num_meta_params</th>\n",
       "      <th>l1_lmbda</th>\n",
       "      <th>sparsity</th>\n",
       "      <th>noise_scale</th>\n",
       "      <th>device</th>\n",
       "      <th>jobid</th>\n",
       "    </tr>\n",
       "  </thead>\n",
       "  <tbody>\n",
       "    <tr>\n",
       "      <th>0</th>\n",
       "      <td>0</td>\n",
       "      <td>0.000088</td>\n",
       "      <td>-0.000130</td>\n",
       "      <td>0.000199</td>\n",
       "      <td>0.000005</td>\n",
       "      <td>-0.000057</td>\n",
       "      <td>0.000026</td>\n",
       "      <td>0.000021</td>\n",
       "      <td>0.000115</td>\n",
       "      <td>0.0</td>\n",
       "      <td>...</td>\n",
       "      <td>250</td>\n",
       "      <td>50</td>\n",
       "      <td>activity</td>\n",
       "      <td>3</td>\n",
       "      <td>17</td>\n",
       "      <td>0.0</td>\n",
       "      <td>0.8</td>\n",
       "      <td>0.2</td>\n",
       "      <td>cpu</td>\n",
       "      <td>1</td>\n",
       "    </tr>\n",
       "    <tr>\n",
       "      <th>1</th>\n",
       "      <td>1</td>\n",
       "      <td>-0.000304</td>\n",
       "      <td>-0.060136</td>\n",
       "      <td>0.001639</td>\n",
       "      <td>-0.000378</td>\n",
       "      <td>-0.060035</td>\n",
       "      <td>0.001444</td>\n",
       "      <td>-0.000355</td>\n",
       "      <td>-0.059814</td>\n",
       "      <td>0.0</td>\n",
       "      <td>...</td>\n",
       "      <td>250</td>\n",
       "      <td>50</td>\n",
       "      <td>activity</td>\n",
       "      <td>3</td>\n",
       "      <td>17</td>\n",
       "      <td>0.0</td>\n",
       "      <td>0.8</td>\n",
       "      <td>0.2</td>\n",
       "      <td>cpu</td>\n",
       "      <td>1</td>\n",
       "    </tr>\n",
       "    <tr>\n",
       "      <th>2</th>\n",
       "      <td>2</td>\n",
       "      <td>-0.000921</td>\n",
       "      <td>-0.093966</td>\n",
       "      <td>0.003321</td>\n",
       "      <td>-0.000966</td>\n",
       "      <td>-0.093832</td>\n",
       "      <td>0.003104</td>\n",
       "      <td>-0.000914</td>\n",
       "      <td>-0.093569</td>\n",
       "      <td>0.0</td>\n",
       "      <td>...</td>\n",
       "      <td>250</td>\n",
       "      <td>50</td>\n",
       "      <td>activity</td>\n",
       "      <td>3</td>\n",
       "      <td>17</td>\n",
       "      <td>0.0</td>\n",
       "      <td>0.8</td>\n",
       "      <td>0.2</td>\n",
       "      <td>cpu</td>\n",
       "      <td>1</td>\n",
       "    </tr>\n",
       "    <tr>\n",
       "      <th>3</th>\n",
       "      <td>3</td>\n",
       "      <td>-0.001240</td>\n",
       "      <td>-0.115697</td>\n",
       "      <td>0.004943</td>\n",
       "      <td>-0.001250</td>\n",
       "      <td>-0.115556</td>\n",
       "      <td>0.004704</td>\n",
       "      <td>-0.001164</td>\n",
       "      <td>-0.115282</td>\n",
       "      <td>0.0</td>\n",
       "      <td>...</td>\n",
       "      <td>250</td>\n",
       "      <td>50</td>\n",
       "      <td>activity</td>\n",
       "      <td>3</td>\n",
       "      <td>17</td>\n",
       "      <td>0.0</td>\n",
       "      <td>0.8</td>\n",
       "      <td>0.2</td>\n",
       "      <td>cpu</td>\n",
       "      <td>1</td>\n",
       "    </tr>\n",
       "    <tr>\n",
       "      <th>4</th>\n",
       "      <td>4</td>\n",
       "      <td>-0.001453</td>\n",
       "      <td>-0.129465</td>\n",
       "      <td>0.007629</td>\n",
       "      <td>-0.001425</td>\n",
       "      <td>-0.129344</td>\n",
       "      <td>0.007375</td>\n",
       "      <td>-0.001300</td>\n",
       "      <td>-0.129087</td>\n",
       "      <td>0.0</td>\n",
       "      <td>...</td>\n",
       "      <td>250</td>\n",
       "      <td>50</td>\n",
       "      <td>activity</td>\n",
       "      <td>3</td>\n",
       "      <td>17</td>\n",
       "      <td>0.0</td>\n",
       "      <td>0.8</td>\n",
       "      <td>0.2</td>\n",
       "      <td>cpu</td>\n",
       "      <td>1</td>\n",
       "    </tr>\n",
       "  </tbody>\n",
       "</table>\n",
       "<p>5 rows × 48 columns</p>\n",
       "</div>"
      ],
      "text/plain": [
       "   Unnamed: 0     A_000     A_001     A_002     A_010     A_011     A_012  \\\n",
       "0           0  0.000088 -0.000130  0.000199  0.000005 -0.000057  0.000026   \n",
       "1           1 -0.000304 -0.060136  0.001639 -0.000378 -0.060035  0.001444   \n",
       "2           2 -0.000921 -0.093966  0.003321 -0.000966 -0.093832  0.003104   \n",
       "3           3 -0.001240 -0.115697  0.004943 -0.001250 -0.115556  0.004704   \n",
       "4           4 -0.001453 -0.129465  0.007629 -0.001425 -0.129344  0.007375   \n",
       "\n",
       "      A_020     A_021  A_022  ...  num_trajec  len_trajec      type  \\\n",
       "0  0.000021  0.000115    0.0  ...         250          50  activity   \n",
       "1 -0.000355 -0.059814    0.0  ...         250          50  activity   \n",
       "2 -0.000914 -0.093569    0.0  ...         250          50  activity   \n",
       "3 -0.001164 -0.115282    0.0  ...         250          50  activity   \n",
       "4 -0.001300 -0.129087    0.0  ...         250          50  activity   \n",
       "\n",
       "   upto_ith_order  num_meta_params  l1_lmbda  sparsity  noise_scale  device  \\\n",
       "0               3               17       0.0       0.8          0.2     cpu   \n",
       "1               3               17       0.0       0.8          0.2     cpu   \n",
       "2               3               17       0.0       0.8          0.2     cpu   \n",
       "3               3               17       0.0       0.8          0.2     cpu   \n",
       "4               3               17       0.0       0.8          0.2     cpu   \n",
       "\n",
       "   jobid  \n",
       "0      1  \n",
       "1      1  \n",
       "2      1  \n",
       "3      1  \n",
       "4      1  \n",
       "\n",
       "[5 rows x 48 columns]"
      ]
     },
     "execution_count": 43,
     "metadata": {},
     "output_type": "execute_result"
    }
   ],
   "source": [
    "data.head()"
   ]
  },
  {
   "cell_type": "code",
   "execution_count": 16,
   "id": "22eabc87-c485-497e-9621-60b86b3ce509",
   "metadata": {},
   "outputs": [
    {
     "data": {
      "text/plain": [
       "0.0"
      ]
     },
     "execution_count": 16,
     "metadata": {},
     "output_type": "execute_result"
    }
   ],
   "source": [
    "data.noise_scale[399]"
   ]
  },
  {
   "cell_type": "code",
   "execution_count": 44,
   "id": "89208292-e933-44e1-9821-aa78a2c89c8c",
   "metadata": {},
   "outputs": [],
   "source": [
    "A = ['A_' + str(i) + str(j) + str(k) for i in range (3) for j in range(3) for k in range(3)]"
   ]
  },
  {
   "cell_type": "code",
   "execution_count": 45,
   "id": "0e8523d1-9d8d-4164-8207-5d621a8ea6b4",
   "metadata": {},
   "outputs": [
    {
     "data": {
      "text/plain": [
       "array([ 50, 200])"
      ]
     },
     "execution_count": 45,
     "metadata": {},
     "output_type": "execute_result"
    }
   ],
   "source": [
    "data['input_dim'].unique()"
   ]
  },
  {
   "cell_type": "code",
   "execution_count": 46,
   "id": "32606a91-85b4-40db-a1d1-50d6a4641fbd",
   "metadata": {},
   "outputs": [
    {
     "data": {
      "text/plain": [
       "array([0.8, 0.9, 1. ])"
      ]
     },
     "execution_count": 46,
     "metadata": {},
     "output_type": "execute_result"
    }
   ],
   "source": [
    "data['sparsity'].unique()"
   ]
  },
  {
   "cell_type": "code",
   "execution_count": 9,
   "id": "cafebd33-f702-4aaf-8714-6012f49ac80f",
   "metadata": {},
   "outputs": [
    {
     "data": {
      "text/plain": [
       "array([200])"
      ]
     },
     "execution_count": 9,
     "metadata": {},
     "output_type": "execute_result"
    }
   ],
   "source": [
    "data['meta_epochs'].unique()"
   ]
  },
  {
   "cell_type": "code",
   "execution_count": 49,
   "id": "8380bff6-5484-45a3-9325-20017e3bcd93",
   "metadata": {},
   "outputs": [
    {
     "data": {
      "text/html": [
       "<div>\n",
       "<style scoped>\n",
       "    .dataframe tbody tr th:only-of-type {\n",
       "        vertical-align: middle;\n",
       "    }\n",
       "\n",
       "    .dataframe tbody tr th {\n",
       "        vertical-align: top;\n",
       "    }\n",
       "\n",
       "    .dataframe thead th {\n",
       "        text-align: right;\n",
       "    }\n",
       "</style>\n",
       "<table border=\"1\" class=\"dataframe\">\n",
       "  <thead>\n",
       "    <tr style=\"text-align: right;\">\n",
       "      <th></th>\n",
       "      <th>A_000</th>\n",
       "      <th>A_001</th>\n",
       "      <th>A_002</th>\n",
       "      <th>A_010</th>\n",
       "      <th>A_011</th>\n",
       "      <th>A_012</th>\n",
       "      <th>A_020</th>\n",
       "      <th>A_021</th>\n",
       "      <th>A_022</th>\n",
       "      <th>A_100</th>\n",
       "      <th>...</th>\n",
       "      <th>A_122</th>\n",
       "      <th>A_200</th>\n",
       "      <th>A_201</th>\n",
       "      <th>A_202</th>\n",
       "      <th>A_210</th>\n",
       "      <th>A_211</th>\n",
       "      <th>A_212</th>\n",
       "      <th>A_220</th>\n",
       "      <th>A_221</th>\n",
       "      <th>A_222</th>\n",
       "    </tr>\n",
       "  </thead>\n",
       "  <tbody>\n",
       "    <tr>\n",
       "      <th>1600</th>\n",
       "      <td>-1.621036e-04</td>\n",
       "      <td>-0.000046</td>\n",
       "      <td>-0.000210</td>\n",
       "      <td>-0.000164</td>\n",
       "      <td>-0.000016</td>\n",
       "      <td>0.000155</td>\n",
       "      <td>0.000077</td>\n",
       "      <td>0.000214</td>\n",
       "      <td>0.0</td>\n",
       "      <td>0.000112</td>\n",
       "      <td>...</td>\n",
       "      <td>0.0</td>\n",
       "      <td>0.000232</td>\n",
       "      <td>0.000058</td>\n",
       "      <td>-0.0</td>\n",
       "      <td>-0.000071</td>\n",
       "      <td>-0.0</td>\n",
       "      <td>0.0</td>\n",
       "      <td>-0.0</td>\n",
       "      <td>-0.0</td>\n",
       "      <td>0.0</td>\n",
       "    </tr>\n",
       "    <tr>\n",
       "      <th>1601</th>\n",
       "      <td>2.158471e-04</td>\n",
       "      <td>-0.082825</td>\n",
       "      <td>-0.003588</td>\n",
       "      <td>0.000193</td>\n",
       "      <td>-0.082501</td>\n",
       "      <td>-0.003306</td>\n",
       "      <td>0.000413</td>\n",
       "      <td>-0.081973</td>\n",
       "      <td>0.0</td>\n",
       "      <td>0.162264</td>\n",
       "      <td>...</td>\n",
       "      <td>0.0</td>\n",
       "      <td>0.000695</td>\n",
       "      <td>-0.076029</td>\n",
       "      <td>-0.0</td>\n",
       "      <td>0.000381</td>\n",
       "      <td>-0.0</td>\n",
       "      <td>0.0</td>\n",
       "      <td>-0.0</td>\n",
       "      <td>-0.0</td>\n",
       "      <td>0.0</td>\n",
       "    </tr>\n",
       "    <tr>\n",
       "      <th>1602</th>\n",
       "      <td>5.459107e-05</td>\n",
       "      <td>-0.119997</td>\n",
       "      <td>-0.000487</td>\n",
       "      <td>0.000028</td>\n",
       "      <td>-0.119533</td>\n",
       "      <td>-0.000312</td>\n",
       "      <td>0.000243</td>\n",
       "      <td>-0.118875</td>\n",
       "      <td>0.0</td>\n",
       "      <td>0.240072</td>\n",
       "      <td>...</td>\n",
       "      <td>0.0</td>\n",
       "      <td>0.000838</td>\n",
       "      <td>-0.103964</td>\n",
       "      <td>-0.0</td>\n",
       "      <td>0.000523</td>\n",
       "      <td>-0.0</td>\n",
       "      <td>0.0</td>\n",
       "      <td>-0.0</td>\n",
       "      <td>-0.0</td>\n",
       "      <td>0.0</td>\n",
       "    </tr>\n",
       "    <tr>\n",
       "      <th>1603</th>\n",
       "      <td>7.990193e-06</td>\n",
       "      <td>-0.135607</td>\n",
       "      <td>0.001193</td>\n",
       "      <td>-0.000021</td>\n",
       "      <td>-0.135362</td>\n",
       "      <td>0.001313</td>\n",
       "      <td>0.000192</td>\n",
       "      <td>-0.134927</td>\n",
       "      <td>0.0</td>\n",
       "      <td>0.271505</td>\n",
       "      <td>...</td>\n",
       "      <td>0.0</td>\n",
       "      <td>0.000655</td>\n",
       "      <td>-0.110440</td>\n",
       "      <td>-0.0</td>\n",
       "      <td>0.000341</td>\n",
       "      <td>-0.0</td>\n",
       "      <td>0.0</td>\n",
       "      <td>-0.0</td>\n",
       "      <td>-0.0</td>\n",
       "      <td>0.0</td>\n",
       "    </tr>\n",
       "    <tr>\n",
       "      <th>1604</th>\n",
       "      <td>-3.975739e-06</td>\n",
       "      <td>-0.140306</td>\n",
       "      <td>0.000927</td>\n",
       "      <td>-0.000034</td>\n",
       "      <td>-0.140556</td>\n",
       "      <td>0.001040</td>\n",
       "      <td>0.000179</td>\n",
       "      <td>-0.140615</td>\n",
       "      <td>0.0</td>\n",
       "      <td>0.281086</td>\n",
       "      <td>...</td>\n",
       "      <td>0.0</td>\n",
       "      <td>0.000353</td>\n",
       "      <td>-0.105934</td>\n",
       "      <td>-0.0</td>\n",
       "      <td>0.000041</td>\n",
       "      <td>-0.0</td>\n",
       "      <td>0.0</td>\n",
       "      <td>-0.0</td>\n",
       "      <td>-0.0</td>\n",
       "      <td>0.0</td>\n",
       "    </tr>\n",
       "    <tr>\n",
       "      <th>...</th>\n",
       "      <td>...</td>\n",
       "      <td>...</td>\n",
       "      <td>...</td>\n",
       "      <td>...</td>\n",
       "      <td>...</td>\n",
       "      <td>...</td>\n",
       "      <td>...</td>\n",
       "      <td>...</td>\n",
       "      <td>...</td>\n",
       "      <td>...</td>\n",
       "      <td>...</td>\n",
       "      <td>...</td>\n",
       "      <td>...</td>\n",
       "      <td>...</td>\n",
       "      <td>...</td>\n",
       "      <td>...</td>\n",
       "      <td>...</td>\n",
       "      <td>...</td>\n",
       "      <td>...</td>\n",
       "      <td>...</td>\n",
       "      <td>...</td>\n",
       "    </tr>\n",
       "    <tr>\n",
       "      <th>1795</th>\n",
       "      <td>-8.627565e-07</td>\n",
       "      <td>0.078849</td>\n",
       "      <td>0.001224</td>\n",
       "      <td>-0.000058</td>\n",
       "      <td>-0.311797</td>\n",
       "      <td>-0.002389</td>\n",
       "      <td>0.000140</td>\n",
       "      <td>-0.692062</td>\n",
       "      <td>0.0</td>\n",
       "      <td>0.152544</td>\n",
       "      <td>...</td>\n",
       "      <td>0.0</td>\n",
       "      <td>-0.000665</td>\n",
       "      <td>0.000075</td>\n",
       "      <td>-0.0</td>\n",
       "      <td>0.001189</td>\n",
       "      <td>-0.0</td>\n",
       "      <td>0.0</td>\n",
       "      <td>-0.0</td>\n",
       "      <td>-0.0</td>\n",
       "      <td>0.0</td>\n",
       "    </tr>\n",
       "    <tr>\n",
       "      <th>1796</th>\n",
       "      <td>-4.580154e-05</td>\n",
       "      <td>0.078924</td>\n",
       "      <td>0.001187</td>\n",
       "      <td>0.000019</td>\n",
       "      <td>-0.311863</td>\n",
       "      <td>-0.002260</td>\n",
       "      <td>0.000338</td>\n",
       "      <td>-0.692272</td>\n",
       "      <td>0.0</td>\n",
       "      <td>0.152338</td>\n",
       "      <td>...</td>\n",
       "      <td>0.0</td>\n",
       "      <td>-0.000646</td>\n",
       "      <td>-0.000232</td>\n",
       "      <td>-0.0</td>\n",
       "      <td>0.001304</td>\n",
       "      <td>-0.0</td>\n",
       "      <td>0.0</td>\n",
       "      <td>-0.0</td>\n",
       "      <td>-0.0</td>\n",
       "      <td>0.0</td>\n",
       "    </tr>\n",
       "    <tr>\n",
       "      <th>1797</th>\n",
       "      <td>-1.554828e-04</td>\n",
       "      <td>0.079117</td>\n",
       "      <td>0.001677</td>\n",
       "      <td>0.000019</td>\n",
       "      <td>-0.311784</td>\n",
       "      <td>-0.001653</td>\n",
       "      <td>0.000454</td>\n",
       "      <td>-0.692316</td>\n",
       "      <td>0.0</td>\n",
       "      <td>0.152404</td>\n",
       "      <td>...</td>\n",
       "      <td>0.0</td>\n",
       "      <td>-0.000721</td>\n",
       "      <td>-0.002395</td>\n",
       "      <td>-0.0</td>\n",
       "      <td>0.001317</td>\n",
       "      <td>-0.0</td>\n",
       "      <td>0.0</td>\n",
       "      <td>-0.0</td>\n",
       "      <td>-0.0</td>\n",
       "      <td>0.0</td>\n",
       "    </tr>\n",
       "    <tr>\n",
       "      <th>1798</th>\n",
       "      <td>-1.025542e-04</td>\n",
       "      <td>0.079010</td>\n",
       "      <td>0.001140</td>\n",
       "      <td>0.000014</td>\n",
       "      <td>-0.311865</td>\n",
       "      <td>-0.002225</td>\n",
       "      <td>0.000390</td>\n",
       "      <td>-0.692380</td>\n",
       "      <td>0.0</td>\n",
       "      <td>0.152414</td>\n",
       "      <td>...</td>\n",
       "      <td>0.0</td>\n",
       "      <td>-0.000667</td>\n",
       "      <td>-0.001300</td>\n",
       "      <td>-0.0</td>\n",
       "      <td>0.001310</td>\n",
       "      <td>-0.0</td>\n",
       "      <td>0.0</td>\n",
       "      <td>-0.0</td>\n",
       "      <td>-0.0</td>\n",
       "      <td>0.0</td>\n",
       "    </tr>\n",
       "    <tr>\n",
       "      <th>1799</th>\n",
       "      <td>6.862336e-05</td>\n",
       "      <td>0.078477</td>\n",
       "      <td>-0.000758</td>\n",
       "      <td>0.000098</td>\n",
       "      <td>-0.312103</td>\n",
       "      <td>-0.004193</td>\n",
       "      <td>0.000390</td>\n",
       "      <td>-0.692348</td>\n",
       "      <td>0.0</td>\n",
       "      <td>0.151692</td>\n",
       "      <td>...</td>\n",
       "      <td>0.0</td>\n",
       "      <td>-0.001034</td>\n",
       "      <td>-0.000099</td>\n",
       "      <td>-0.0</td>\n",
       "      <td>0.000886</td>\n",
       "      <td>-0.0</td>\n",
       "      <td>0.0</td>\n",
       "      <td>-0.0</td>\n",
       "      <td>-0.0</td>\n",
       "      <td>0.0</td>\n",
       "    </tr>\n",
       "  </tbody>\n",
       "</table>\n",
       "<p>200 rows × 27 columns</p>\n",
       "</div>"
      ],
      "text/plain": [
       "             A_000     A_001     A_002     A_010     A_011     A_012  \\\n",
       "1600 -1.621036e-04 -0.000046 -0.000210 -0.000164 -0.000016  0.000155   \n",
       "1601  2.158471e-04 -0.082825 -0.003588  0.000193 -0.082501 -0.003306   \n",
       "1602  5.459107e-05 -0.119997 -0.000487  0.000028 -0.119533 -0.000312   \n",
       "1603  7.990193e-06 -0.135607  0.001193 -0.000021 -0.135362  0.001313   \n",
       "1604 -3.975739e-06 -0.140306  0.000927 -0.000034 -0.140556  0.001040   \n",
       "...            ...       ...       ...       ...       ...       ...   \n",
       "1795 -8.627565e-07  0.078849  0.001224 -0.000058 -0.311797 -0.002389   \n",
       "1796 -4.580154e-05  0.078924  0.001187  0.000019 -0.311863 -0.002260   \n",
       "1797 -1.554828e-04  0.079117  0.001677  0.000019 -0.311784 -0.001653   \n",
       "1798 -1.025542e-04  0.079010  0.001140  0.000014 -0.311865 -0.002225   \n",
       "1799  6.862336e-05  0.078477 -0.000758  0.000098 -0.312103 -0.004193   \n",
       "\n",
       "         A_020     A_021  A_022     A_100  ...  A_122     A_200     A_201  \\\n",
       "1600  0.000077  0.000214    0.0  0.000112  ...    0.0  0.000232  0.000058   \n",
       "1601  0.000413 -0.081973    0.0  0.162264  ...    0.0  0.000695 -0.076029   \n",
       "1602  0.000243 -0.118875    0.0  0.240072  ...    0.0  0.000838 -0.103964   \n",
       "1603  0.000192 -0.134927    0.0  0.271505  ...    0.0  0.000655 -0.110440   \n",
       "1604  0.000179 -0.140615    0.0  0.281086  ...    0.0  0.000353 -0.105934   \n",
       "...        ...       ...    ...       ...  ...    ...       ...       ...   \n",
       "1795  0.000140 -0.692062    0.0  0.152544  ...    0.0 -0.000665  0.000075   \n",
       "1796  0.000338 -0.692272    0.0  0.152338  ...    0.0 -0.000646 -0.000232   \n",
       "1797  0.000454 -0.692316    0.0  0.152404  ...    0.0 -0.000721 -0.002395   \n",
       "1798  0.000390 -0.692380    0.0  0.152414  ...    0.0 -0.000667 -0.001300   \n",
       "1799  0.000390 -0.692348    0.0  0.151692  ...    0.0 -0.001034 -0.000099   \n",
       "\n",
       "      A_202     A_210  A_211  A_212  A_220  A_221  A_222  \n",
       "1600   -0.0 -0.000071   -0.0    0.0   -0.0   -0.0    0.0  \n",
       "1601   -0.0  0.000381   -0.0    0.0   -0.0   -0.0    0.0  \n",
       "1602   -0.0  0.000523   -0.0    0.0   -0.0   -0.0    0.0  \n",
       "1603   -0.0  0.000341   -0.0    0.0   -0.0   -0.0    0.0  \n",
       "1604   -0.0  0.000041   -0.0    0.0   -0.0   -0.0    0.0  \n",
       "...     ...       ...    ...    ...    ...    ...    ...  \n",
       "1795   -0.0  0.001189   -0.0    0.0   -0.0   -0.0    0.0  \n",
       "1796   -0.0  0.001304   -0.0    0.0   -0.0   -0.0    0.0  \n",
       "1797   -0.0  0.001317   -0.0    0.0   -0.0   -0.0    0.0  \n",
       "1798   -0.0  0.001310   -0.0    0.0   -0.0   -0.0    0.0  \n",
       "1799   -0.0  0.000886   -0.0    0.0   -0.0   -0.0    0.0  \n",
       "\n",
       "[200 rows x 27 columns]"
      ]
     },
     "execution_count": 49,
     "metadata": {},
     "output_type": "execute_result"
    }
   ],
   "source": [
    "df = data.loc[(data['epoch'] <= 200) & (data['jobid'] == 0)  & (data['noise_scale'] == 0) & (data['sparsity'] == 1), A]\n",
    "df"
   ]
  },
  {
   "cell_type": "code",
   "execution_count": 50,
   "id": "a5b81de9-7259-4c74-9b21-03117d7bd4b5",
   "metadata": {},
   "outputs": [
    {
     "data": {
      "image/png": "[encoded data removed]",
      "text/plain": [
       "<Figure size 180x252 with 1 Axes>"
      ]
     },
     "metadata": {
      "needs_background": "light"
     },
     "output_type": "display_data"
    }
   ],
   "source": [
    "fontsize = 13\n",
    "font = 'Arial'\n",
    "linewidth = 2.5\n",
    "n_meta_it = 200\n",
    "\n",
    "fig, ax = plt.subplots(figsize=(2.5, 3.5))\n",
    "plt.axhline(y=1, color='yellowgreen', linestyle='--', linewidth=linewidth*0.7, alpha=0.8)\n",
    "plt.axhline(y=-1, color='yellowgreen', linestyle='--', linewidth=linewidth*0.7, alpha=0.8)\n",
    "\n",
    "for i in range(3):\n",
    "    for j in range(3):\n",
    "        for k in range(3):    \n",
    "            col = '#625D5D'\n",
    "            if i == 1 and j == 1 and k == 0:\n",
    "                # col = '#4863A0'\n",
    "                col = 'coral'\n",
    "            elif i == 0 and j == 2 and k == 1:\n",
    "                # col = '#fdb462'\n",
    "                col = 'coral'\n",
    "            ax.plot([i for i in range(200)], df['A_'+str(i)+str(j)+str(k)],color = col, linewidth = linewidth)\n",
    "            \n",
    "# ax.set_ylabel(r'$A$', fontname=\"arial\", fontsize=fontsize , labelpad = 6)\n",
    "ax.spines['top'].set_visible(False)\n",
    "ax.spines['right'].set_visible(False)_\n",
    "ax.spines['bottom'].set_linewidth(linewidth)\n",
    "ax.spines['left'].set_linewidth(linewidth)\n",
    "ax.tick_params(width=linewidth, labelsize=fontsize, length=2*linewidth)\n",
    "ax.set_xticks([0,int(n_meta_it/2), n_meta_it])\n",
    "# ax.set_xlabel('meta-iterations', fontsize=fontsize, fontname=\"arial\")\n",
    "ax.set_xlim([0,n_meta_it])\n",
    "for tick in ax.get_yticklabels():\n",
    "    tick.set_fontname(font)\n",
    "for tick in ax.get_xticklabels():\n",
    "    tick.set_fontname(font)\n",
    "\n",
    "plt.axhline(y=0, color='yellowgreen', linestyle='--', linewidth=linewidth*0.7, alpha=0.8)\n",
    "    \n",
    "plt.savefig('A_noisy.png', dpi=500, bbox_inches=\"tight\")"
   ]
  },
  {
   "cell_type": "code",
   "execution_count": 53,
   "id": "1aa3b9f5-7eff-4d7f-b142-c46c047c0055",
   "metadata": {},
   "outputs": [],
   "source": [
    "df = data.loc[(data['output_dim'] == 50) & (data['input_dim'] == 889) & (data['epoch'] <= 200) & (data['jobid'] == 4), A]"
   ]
  },
  {
   "cell_type": "code",
   "execution_count": 54,
   "id": "34d05be7-dd28-4e16-b2b5-16ef85a3edd0",
   "metadata": {},
   "outputs": [
    {
     "data": {
      "text/plain": [
       "<matplotlib.lines.Line2D at 0x146745c2b6d0>"
      ]
     },
     "execution_count": 54,
     "metadata": {},
     "output_type": "execute_result"
    },
    {
     "data": {
      "image/png": "[encoded data removed]",
      "text/plain": [
       "<Figure size 252x180 with 1 Axes>"
      ]
     },
     "metadata": {
      "needs_background": "light"
     },
     "output_type": "display_data"
    }
   ],
   "source": [
    "fontsize = 15\n",
    "font = 'Arial'\n",
    "linewidth = 2.5\n",
    "n_meta_it = 200\n",
    "\n",
    "fig, ax = plt.subplots(figsize=(3.5, 2.5))\n",
    "plt.axhline(y=1, color='yellowgreen', linestyle='--', linewidth=linewidth*0.5, alpha=0.7)\n",
    "plt.axhline(y=-1, color='yellowgreen', linestyle='--', linewidth=linewidth*0.5, alpha=0.7)\n",
    "\n",
    "for i in range(3):\n",
    "    for j in range(3):\n",
    "        for k in range(3):    \n",
    "            col = '#625D5D'\n",
    "            if i == 1 and j == 1 and k == 0:\n",
    "                # col = '#4863A0'\n",
    "                col = 'coral'\n",
    "            elif i == 0 and j == 2 and k == 1:\n",
    "                # col = '#fdb462'\n",
    "                col = 'coral'\n",
    "            ax.plot([i for i in range(201)], df['A_'+str(i)+str(j)+str(k)],color = col, linewidth = linewidth)\n",
    "            \n",
    "ax.set_ylabel(r'$A$', fontname=\"arial\", fontsize=fontsize , labelpad = 6)\n",
    "ax.spines['top'].set_visible(False)\n",
    "ax.spines['right'].set_visible(False)\n",
    "ax.spines['bottom'].set_linewidth(linewidth)\n",
    "ax.spines['left'].set_linewidth(linewidth)\n",
    "ax.tick_params(width=linewidth, labelsize=fontsize, length=2*linewidth)\n",
    "ax.set_xticks([0,int(n_meta_it/2), n_meta_it])\n",
    "ax.set_xlabel('meta-iterations', fontsize=fontsize, fontname=\"arial\")\n",
    "ax.set_xlim([0,n_meta_it])\n",
    "for tick in ax.get_yticklabels():\n",
    "    tick.set_fontname(font)\n",
    "for tick in ax.get_xticklabels():\n",
    "    tick.set_fontname(font)\n",
    "\n",
    "plt.axhline(y=0, color='yellowgreen', linestyle='--', linewidth=linewidth*0.5, alpha=0.7)\n",
    "    \n",
    "# plt.savefig('As.png', dpi=500)"
   ]
  },
  {
   "cell_type": "code",
   "execution_count": 3,
   "id": "61f100a7-9a42-4f8a-b2f5-d94a06508244",
   "metadata": {},
   "outputs": [
    {
     "data": {
      "text/plain": [
       "<matplotlib.image.AxesImage at 0x146747ce9400>"
      ]
     },
     "execution_count": 3,
     "metadata": {},
     "output_type": "execute_result"
    },
    {
     "data": {
      "image/png": "[encoded data removed]",
      "text/plain": [
       "<Figure size 432x288 with 1 Axes>"
      ]
     },
     "metadata": {
      "needs_background": "light"
     },
     "output_type": "display_data"
    }
   ],
   "source": [
    "plt.imshow(img)"
   ]
  },
  {
   "cell_type": "code",
   "execution_count": 85,
   "id": "1417ba54-e1c7-4723-b5b8-15f3df23b2f4",
   "metadata": {},
   "outputs": [],
   "source": [
    "def func():\n",
    "    return np.ones(4)"
   ]
  },
  {
   "cell_type": "code",
   "execution_count": 90,
   "id": "71094d34-4719-49da-a356-130fa2260c79",
   "metadata": {},
   "outputs": [],
   "source": [
    "b = np.zeros(4)\n",
    "for i in range(2):\n",
    "    a = func()\n",
    "    b = np.vstack((b,a))"
   ]
  },
  {
   "cell_type": "code",
   "execution_count": 91,
   "id": "86bc5e5a-3013-4910-b0bd-d14b668d3e4a",
   "metadata": {},
   "outputs": [
    {
     "data": {
      "text/plain": [
       "array([[1., 1., 1., 1.],\n",
       "       [1., 1., 1., 1.]])"
      ]
     },
     "execution_count": 91,
     "metadata": {},
     "output_type": "execute_result"
    }
   ],
   "source": [
    "np.delete(b, 0, 0)"
   ]
  },
  {
   "cell_type": "code",
   "execution_count": 51,
   "id": "64a3caa2-2a9e-4e7c-ae3e-2c2bacc0564d",
   "metadata": {},
   "outputs": [],
   "source": [
    "with open('losses_mat.npy', 'rb') as f:\n",
    "    img = np.load(f)"
   ]
  },
  {
   "cell_type": "code",
   "execution_count": 62,
   "id": "11f8d1eb-1504-42de-afca-45fc2eb8b8fc",
   "metadata": {},
   "outputs": [
    {
     "data": {
      "image/png": "[encoded data removed]",
      "text/plain": [
       "<Figure size 288x288 with 2 Axes>"
      ]
     },
     "metadata": {
      "needs_background": "light"
     },
     "output_type": "display_data"
    }
   ],
   "source": [
    "fig, ax = plt.subplots(figsize=(4, 4))\n",
    "pos = ax.imshow(img[:400], aspect=0.05)\n",
    "plt.xticks(ticks=[0, 9, 19], labels=[0, 10, 20], fontsize=13, fontname='Arial')\n",
    "plt.yticks(ticks=[0, 99, 199, 299, 399], labels=[0, 100, 200, 300, 400], fontsize=13, fontname='Arial')\n",
    "# ax.xaxis.tick_top()\n",
    "# cbar = fig.colorbar(pos, ax=ax, anchor=(0, 0.3), shrink=0.7, ticks=[0.5, 1])\n",
    "cbar = fig.colorbar(pos, ax=ax, shrink=0.7, ticks=[0, 0.001, 0.002, 0.003, 0.004, 0.005])\n",
    "cbar.ax.set_yticklabels(['0', '1e-3', '2e-3', '3e-3', '4e-3', '5e-3'])\n",
    "cbar.minorticks_on()\n",
    "\n",
    "plt.savefig('rastor.png', dpi=600)"
   ]
  },
  {
   "cell_type": "code",
   "execution_count": 86,
   "id": "30d37719-0cba-43e8-a69b-428bec667288",
   "metadata": {},
   "outputs": [
    {
     "name": "stderr",
     "output_type": "stream",
     "text": [
      "<ipython-input-86-58dd940b3bed>:1: DtypeWarning: Columns (0,6,10,11,12,16,17,18,20,26,29,35,36,42) have mixed types. Specify dtype option on import or set low_memory=False.\n",
      "  data = pd.read_csv(\"/groups/funke/home/mehtay/research/MetaLearnPlasticity/explogs/sparse-noise.csv\")\n"
     ]
    }
   ],
   "source": [
    "data = pd.read_csv(\"/groups/funke/home/mehtay/research/MetaLearnPlasticity/explogs/sparse-noise.csv\")"
   ]
  },
  {
   "cell_type": "code",
   "execution_count": 110,
   "id": "8f808cb4-1e2d-4e5a-a3ef-095f2c430b66",
   "metadata": {},
   "outputs": [],
   "source": [
    "rastor = np.zeros((6,6))\n",
    "# rastor = [[[] for i in range(6)] for j in range(6)]\n",
    "\n",
    "for i, noise in enumerate([0, 0.2, 0.4, 0.6, 0.8, 1]):\n",
    "    for j, sparsity in enumerate([1, 0.9, 0.8, 0.7, 0.6, 0.5]):\n",
    "        df = data.loc[(data['noise_scale'] == noise) & (data['sparsity'] == sparsity) & (data['epoch'] == 49), ['r2_score']]\n",
    "        rastor[i][j] = np.maximum(np.array(df['r2_score']), 0).mean()\n",
    "        # rastor[i][j] = np.array(df['r2_score']).mean()"
   ]
  },
  {
   "cell_type": "code",
   "execution_count": 111,
   "id": "d941e1f4-7a60-4348-a7ef-136237f968d0",
   "metadata": {},
   "outputs": [
    {
     "data": {
      "text/plain": [
       "array([[0.99962639, 0.97711018, 0.93462957, 0.88188567, 0.81235327,\n",
       "        0.72736427],\n",
       "       [0.94904205, 0.93324638, 0.90355145, 0.85981547, 0.78620615,\n",
       "        0.67936617],\n",
       "       [0.89550619, 0.88392532, 0.84495554, 0.79603622, 0.69632132,\n",
       "        0.58284836],\n",
       "       [0.83057679, 0.80865413, 0.7625102 , 0.71326738, 0.59908908,\n",
       "        0.50378499],\n",
       "       [0.76373003, 0.72225621, 0.67907272, 0.61166046, 0.48731733,\n",
       "        0.403663  ],\n",
       "       [0.69945521, 0.63981612, 0.57129184, 0.49450874, 0.37598998,\n",
       "        0.30465663]])"
      ]
     },
     "execution_count": 111,
     "metadata": {},
     "output_type": "execute_result"
    }
   ],
   "source": [
    "rastor"
   ]
  },
  {
   "cell_type": "code",
   "execution_count": 137,
   "id": "31c1be2e-1922-4bdd-ac33-9d0f9f78b4b0",
   "metadata": {},
   "outputs": [
    {
     "data": {
      "image/png": "[encoded data removed]",
      "text/plain": [
       "<Figure size 288x288 with 2 Axes>"
      ]
     },
     "metadata": {
      "needs_background": "light"
     },
     "output_type": "display_data"
    }
   ],
   "source": [
    "fig, ax = plt.subplots(figsize=(4, 4))\n",
    "pos = ax.imshow(rastor, vmin=0.3, vmax=1)\n",
    "plt.xticks(ticks=[i for i in range(6)], labels=[1, 0.9, 0.8, 0.7, 0.6, 0.5], fontsize=13, fontname='Arial')\n",
    "plt.yticks(ticks=[j for j in range(6)], labels=[0, 0.2, 0.4, 0.6, 0.8, 1], fontsize=13, fontname='Arial')\n",
    "ax.xaxis.tick_top()\n",
    "cbar = fig.colorbar(pos, ax=ax, anchor=(0, 0.3), shrink=0.7, ticks=[0.5, 1])\n",
    "cbar.ax.set_yticklabels(['0.5', '1'])\n",
    "cbar.minorticks_on()\n",
    "plt.savefig('rastor-ns.png', dpi=600)"
   ]
  },
  {
   "cell_type": "code",
   "execution_count": 106,
   "id": "36ffadfa-ea0f-42a5-9f20-ff35299d396e",
   "metadata": {},
   "outputs": [
    {
     "data": {
      "text/plain": [
       "<matplotlib.image.AxesImage at 0x14673f3e9850>"
      ]
     },
     "execution_count": 106,
     "metadata": {},
     "output_type": "execute_result"
    },
    {
     "data": {
      "image/png": "[encoded data removed]",
      "text/plain": [
       "<Figure size 432x288 with 1 Axes>"
      ]
     },
     "metadata": {
      "needs_background": "light"
     },
     "output_type": "display_data"
    }
   ],
   "source": [
    "plt.imshow(rastor)"
   ]
  },
  {
   "cell_type": "code",
   "execution_count": null,
   "id": "3c5594f0-ad61-4ad0-b6a1-790cbfef0e37",
   "metadata": {},
   "outputs": [],
   "source": []
  }
 ],
 "metadata": {
  "kernelspec": {
   "display_name": "plastix",
   "language": "python",
   "name": "plastix"
  },
  "language_info": {
   "codemirror_mode": {
    "name": "ipython",
    "version": 3
   },
   "file_extension": ".py",
   "mimetype": "text/x-python",
   "name": "python",
   "nbconvert_exporter": "python",
   "pygments_lexer": "ipython3",
   "version": "3.9.7"
  }
 },
 "nbformat": 4,
 "nbformat_minor": 5
}
